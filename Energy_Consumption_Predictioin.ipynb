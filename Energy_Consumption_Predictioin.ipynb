{
 "cells": [
  {
   "cell_type": "markdown",
   "id": "1c10b727",
   "metadata": {},
   "source": [
    "# Energy Consumption Prediction"
   ]
  },
  {
   "cell_type": "markdown",
   "id": "dbd0aebc",
   "metadata": {},
   "source": [
    "In this project, a deep learning model will be developed to predict the amount of energy consumed by a building with solar panel. The deep learning model will use tensorflow/keras framework. A sequential and functional model (Baseline Model) and a tuned sequential and functional model (Proposed Model) would be developed."
   ]
  },
  {
   "cell_type": "markdown",
   "id": "6dc64ea5",
   "metadata": {},
   "source": [
    "<table>\n",
    "<tr>\n",
    "<th>Column Name</th>\n",
    "<th>Description</th>\n",
    "</tr>\n",
    "<tr>\n",
    "<td>Month</td>\n",
    "<td>The month of the year when the data was recorded.</td>\n",
    "</tr>\n",
    "<tr>\n",
    "<td>Hour</td>\n",
    "<td>The hour of the day when the data was recorded.</td>\n",
    "</tr>\n",
    "<tr>\n",
    "<td>DayOfWeek</td>\n",
    "<td>The day of the week when the data was recorded.</td>\n",
    "</tr>\n",
    "<tr>\n",
    "<td>Holiday</td>\n",
    "<td>Indicates whether the day was a holiday (Yes/No).</td>\n",
    "</tr>\n",
    "<tr>\n",
    "<td>Temperature</td>\n",
    "<td>The average daily temperature in Celsius.</td>\n",
    "</tr>\n",
    "<tr>\n",
    "<td>Humidity</td>\n",
    "<td>The average daily humidity level (%).</td>\n",
    "</tr>\n",
    "<tr>\n",
    "<td>SquareFootage</td>\n",
    "<td>The area of the building being monitored in m<sup>2</sup>.</td>\n",
    "</tr>\n",
    "<tr>\n",
    "<td>Occupancy</td>\n",
    "<td>The total number of people occupying the building.</td>\n",
    "</tr>\n",
    "<tr>\n",
    "<td>HVACUsage</td>\n",
    "<td>Indicates whether the HVAC system was in use (On/Off).</td>\n",
    "</tr>\n",
    "<tr>\n",
    "<td>LightingUsage</td>\n",
    "<td>Indicates whether the lighting system was in use (On/Off).</td>\n",
    "</tr>\n",
    "<tr>\n",
    "<td>RenewableEnergy</td>\n",
    "<td>The amount of renewable energy generated at the time of data collection. (Kwh)</td>\n",
    "</tr>\n",
    "<tr>\n",
    "<td>EnergyConsumption (the goal)</td>\n",
    "<td>The amount of energy consumed at the time of data collection. (Kwh)</td>\n",
    "</tr>\n",
    "</table>"
   ]
  },
  {
   "cell_type": "markdown",
   "id": "c12ff704",
   "metadata": {},
   "source": [
    "## Importing the Needed Libraries"
   ]
  },
  {
   "cell_type": "code",
   "execution_count": 1,
   "id": "5382a738",
   "metadata": {},
   "outputs": [],
   "source": [
    "# Basic python Libraries\n",
    "import pandas as pd\n",
    "import numpy as np\n",
    "import matplotlib.pyplot as plt\n",
    "import random\n",
    "from typing import Dict, Any\n",
    "\n",
    "# Data prepreocessing Libraries\n",
    "from sklearn.model_selection import train_test_split\n",
    "from sklearn.preprocessing import StandardScaler, MinMaxScaler, LabelEncoder, OneHotEncoder, OrdinalEncoder\n",
    "\n",
    "# Tensorflow Libraries\n",
    "import tensorflow as tf\n",
    "from tensorflow import keras\n",
    "from tensorflow.keras import layers, Input, Model\n",
    "from tensorflow.keras.models import Sequential\n",
    "from tensorflow.keras.layers import Dense, Dropout, BatchNormalization, Embedding, Flatten, Input, Concatenate\n",
    "\n",
    "# Model Evaluation Libraries\n",
    "from sklearn.metrics import mean_squared_error, mean_absolute_error, r2_score\n",
    "\n",
    "# Hyperparameter tuning Libraries\n",
    "import optuna\n",
    "## Suppress warnings from Optuna\n",
    "optuna.logging.set_verbosity(optuna.logging.WARNING)\n",
    "\n",
    "# For Cleaner Notebook\n",
    "from tqdm import tqdm"
   ]
  },
  {
   "cell_type": "markdown",
   "id": "87348ad0",
   "metadata": {},
   "source": [
    "## Import the Data"
   ]
  },
  {
   "cell_type": "code",
   "execution_count": 2,
   "id": "7c17d108",
   "metadata": {},
   "outputs": [
    {
     "data": {
      "text/html": [
       "<div>\n",
       "<style scoped>\n",
       "    .dataframe tbody tr th:only-of-type {\n",
       "        vertical-align: middle;\n",
       "    }\n",
       "\n",
       "    .dataframe tbody tr th {\n",
       "        vertical-align: top;\n",
       "    }\n",
       "\n",
       "    .dataframe thead th {\n",
       "        text-align: right;\n",
       "    }\n",
       "</style>\n",
       "<table border=\"1\" class=\"dataframe\">\n",
       "  <thead>\n",
       "    <tr style=\"text-align: right;\">\n",
       "      <th></th>\n",
       "      <th>Month</th>\n",
       "      <th>Hour</th>\n",
       "      <th>DayOfWeek</th>\n",
       "      <th>Holiday</th>\n",
       "      <th>Temperature</th>\n",
       "      <th>Humidity</th>\n",
       "      <th>SquareFootage</th>\n",
       "      <th>Occupancy</th>\n",
       "      <th>HVACUsage</th>\n",
       "      <th>LightingUsage</th>\n",
       "      <th>RenewableEnergy</th>\n",
       "      <th>EnergyConsumption</th>\n",
       "    </tr>\n",
       "  </thead>\n",
       "  <tbody>\n",
       "    <tr>\n",
       "      <th>0</th>\n",
       "      <td>8</td>\n",
       "      <td>3</td>\n",
       "      <td>Sunday</td>\n",
       "      <td>Yes</td>\n",
       "      <td>24.492063</td>\n",
       "      <td>59.969085</td>\n",
       "      <td>1403.454805</td>\n",
       "      <td>7</td>\n",
       "      <td>On</td>\n",
       "      <td>Off</td>\n",
       "      <td>29.965327</td>\n",
       "      <td>82.05735763545306</td>\n",
       "    </tr>\n",
       "    <tr>\n",
       "      <th>1</th>\n",
       "      <td>1</td>\n",
       "      <td>8</td>\n",
       "      <td>Wednesday</td>\n",
       "      <td>No</td>\n",
       "      <td>26.312114</td>\n",
       "      <td>51.408711</td>\n",
       "      <td>1220.547133</td>\n",
       "      <td>8</td>\n",
       "      <td>On</td>\n",
       "      <td>Off</td>\n",
       "      <td>5.986875</td>\n",
       "      <td>83.88917674427188</td>\n",
       "    </tr>\n",
       "    <tr>\n",
       "      <th>2</th>\n",
       "      <td>1</td>\n",
       "      <td>19</td>\n",
       "      <td>Sunday</td>\n",
       "      <td>Yes</td>\n",
       "      <td>20.516186</td>\n",
       "      <td>40.918500</td>\n",
       "      <td>1114.230124</td>\n",
       "      <td>8</td>\n",
       "      <td>Off</td>\n",
       "      <td>On</td>\n",
       "      <td>20.489098</td>\n",
       "      <td>66.20209750906106</td>\n",
       "    </tr>\n",
       "    <tr>\n",
       "      <th>3</th>\n",
       "      <td>7</td>\n",
       "      <td>3</td>\n",
       "      <td>Wednesday</td>\n",
       "      <td>Yes</td>\n",
       "      <td>20.879426</td>\n",
       "      <td>46.859237</td>\n",
       "      <td>1096.207227</td>\n",
       "      <td>7</td>\n",
       "      <td>Off</td>\n",
       "      <td>On</td>\n",
       "      <td>21.321157</td>\n",
       "      <td>66.43917871187017</td>\n",
       "    </tr>\n",
       "    <tr>\n",
       "      <th>4</th>\n",
       "      <td>10</td>\n",
       "      <td>17</td>\n",
       "      <td>Saturday</td>\n",
       "      <td>No</td>\n",
       "      <td>23.015216</td>\n",
       "      <td>48.998158</td>\n",
       "      <td>1999.982252</td>\n",
       "      <td>1</td>\n",
       "      <td>Off</td>\n",
       "      <td>Off</td>\n",
       "      <td>3.966075</td>\n",
       "      <td>76.90227179904673</td>\n",
       "    </tr>\n",
       "  </tbody>\n",
       "</table>\n",
       "</div>"
      ],
      "text/plain": [
       "  Month  Hour  DayOfWeek Holiday  Temperature   Humidity  SquareFootage  \\\n",
       "0     8     3     Sunday     Yes    24.492063  59.969085    1403.454805   \n",
       "1     1     8  Wednesday      No    26.312114  51.408711    1220.547133   \n",
       "2     1    19     Sunday     Yes    20.516186  40.918500    1114.230124   \n",
       "3     7     3  Wednesday     Yes    20.879426  46.859237    1096.207227   \n",
       "4    10    17   Saturday      No    23.015216  48.998158    1999.982252   \n",
       "\n",
       "   Occupancy HVACUsage LightingUsage  RenewableEnergy  EnergyConsumption  \n",
       "0          7        On           Off        29.965327  82.05735763545306  \n",
       "1          8        On           Off         5.986875  83.88917674427188  \n",
       "2          8       Off            On        20.489098  66.20209750906106  \n",
       "3          7       Off            On        21.321157  66.43917871187017  \n",
       "4          1       Off           Off         3.966075  76.90227179904673  "
      ]
     },
     "execution_count": 2,
     "metadata": {},
     "output_type": "execute_result"
    }
   ],
   "source": [
    "data = pd.read_parquet(\"dataset_1A.parquet\")\n",
    "data.head()"
   ]
  },
  {
   "cell_type": "markdown",
   "id": "e6a4730f",
   "metadata": {},
   "source": [
    "## EDA"
   ]
  },
  {
   "cell_type": "markdown",
   "id": "fb19b807",
   "metadata": {},
   "source": [
    "### Check the Missing Values and Duplicates"
   ]
  },
  {
   "cell_type": "markdown",
   "id": "b4fc347c",
   "metadata": {},
   "source": [
    "#### The Number of Missing Values"
   ]
  },
  {
   "cell_type": "code",
   "execution_count": 3,
   "id": "cf7739f8",
   "metadata": {},
   "outputs": [
    {
     "data": {
      "text/html": [
       "<div>\n",
       "<style scoped>\n",
       "    .dataframe tbody tr th:only-of-type {\n",
       "        vertical-align: middle;\n",
       "    }\n",
       "\n",
       "    .dataframe tbody tr th {\n",
       "        vertical-align: top;\n",
       "    }\n",
       "\n",
       "    .dataframe thead th {\n",
       "        text-align: right;\n",
       "    }\n",
       "</style>\n",
       "<table border=\"1\" class=\"dataframe\">\n",
       "  <thead>\n",
       "    <tr style=\"text-align: right;\">\n",
       "      <th></th>\n",
       "      <th>Number_Of_Data_Missing</th>\n",
       "      <th>Percentage</th>\n",
       "    </tr>\n",
       "  </thead>\n",
       "  <tbody>\n",
       "    <tr>\n",
       "      <th>Month</th>\n",
       "      <td>0</td>\n",
       "      <td>0.0</td>\n",
       "    </tr>\n",
       "    <tr>\n",
       "      <th>Hour</th>\n",
       "      <td>0</td>\n",
       "      <td>0.0</td>\n",
       "    </tr>\n",
       "    <tr>\n",
       "      <th>DayOfWeek</th>\n",
       "      <td>0</td>\n",
       "      <td>0.0</td>\n",
       "    </tr>\n",
       "    <tr>\n",
       "      <th>Holiday</th>\n",
       "      <td>0</td>\n",
       "      <td>0.0</td>\n",
       "    </tr>\n",
       "    <tr>\n",
       "      <th>Temperature</th>\n",
       "      <td>0</td>\n",
       "      <td>0.0</td>\n",
       "    </tr>\n",
       "    <tr>\n",
       "      <th>Humidity</th>\n",
       "      <td>0</td>\n",
       "      <td>0.0</td>\n",
       "    </tr>\n",
       "    <tr>\n",
       "      <th>SquareFootage</th>\n",
       "      <td>0</td>\n",
       "      <td>0.0</td>\n",
       "    </tr>\n",
       "    <tr>\n",
       "      <th>Occupancy</th>\n",
       "      <td>0</td>\n",
       "      <td>0.0</td>\n",
       "    </tr>\n",
       "    <tr>\n",
       "      <th>HVACUsage</th>\n",
       "      <td>0</td>\n",
       "      <td>0.0</td>\n",
       "    </tr>\n",
       "    <tr>\n",
       "      <th>LightingUsage</th>\n",
       "      <td>0</td>\n",
       "      <td>0.0</td>\n",
       "    </tr>\n",
       "    <tr>\n",
       "      <th>RenewableEnergy</th>\n",
       "      <td>0</td>\n",
       "      <td>0.0</td>\n",
       "    </tr>\n",
       "    <tr>\n",
       "      <th>EnergyConsumption</th>\n",
       "      <td>0</td>\n",
       "      <td>0.0</td>\n",
       "    </tr>\n",
       "  </tbody>\n",
       "</table>\n",
       "</div>"
      ],
      "text/plain": [
       "                   Number_Of_Data_Missing  Percentage\n",
       "Month                                   0         0.0\n",
       "Hour                                    0         0.0\n",
       "DayOfWeek                               0         0.0\n",
       "Holiday                                 0         0.0\n",
       "Temperature                             0         0.0\n",
       "Humidity                                0         0.0\n",
       "SquareFootage                           0         0.0\n",
       "Occupancy                               0         0.0\n",
       "HVACUsage                               0         0.0\n",
       "LightingUsage                           0         0.0\n",
       "RenewableEnergy                         0         0.0\n",
       "EnergyConsumption                       0         0.0"
      ]
     },
     "execution_count": 3,
     "metadata": {},
     "output_type": "execute_result"
    }
   ],
   "source": [
    "missing_data_count = pd.DataFrame(data.isna().sum())\n",
    "missing_data_count.columns = [\"Number_Of_Data_Missing\"]\n",
    "missing_data_count[\"Percentage\"] = round(missing_data_count[\"Number_Of_Data_Missing\"]/len(data) * 100, 2)\n",
    "missing_data_count"
   ]
  },
  {
   "cell_type": "markdown",
   "id": "3b6cec94",
   "metadata": {},
   "source": [
    "#### Check for Duplicates"
   ]
  },
  {
   "cell_type": "code",
   "execution_count": 4,
   "id": "7b2b1a80",
   "metadata": {},
   "outputs": [
    {
     "name": "stdout",
     "output_type": "stream",
     "text": [
      "0\n"
     ]
    }
   ],
   "source": [
    "print(data.duplicated().sum())"
   ]
  },
  {
   "cell_type": "markdown",
   "id": "c8e8f484",
   "metadata": {},
   "source": [
    "### Check the Data Types"
   ]
  },
  {
   "cell_type": "code",
   "execution_count": 5,
   "id": "2606ec83",
   "metadata": {},
   "outputs": [
    {
     "name": "stdout",
     "output_type": "stream",
     "text": [
      "<class 'pandas.core.frame.DataFrame'>\n",
      "RangeIndex: 1232 entries, 0 to 1231\n",
      "Data columns (total 12 columns):\n",
      " #   Column             Non-Null Count  Dtype  \n",
      "---  ------             --------------  -----  \n",
      " 0   Month              1232 non-null   object \n",
      " 1   Hour               1232 non-null   int64  \n",
      " 2   DayOfWeek          1232 non-null   object \n",
      " 3   Holiday            1232 non-null   object \n",
      " 4   Temperature        1232 non-null   float64\n",
      " 5   Humidity           1232 non-null   float64\n",
      " 6   SquareFootage      1232 non-null   float64\n",
      " 7   Occupancy          1232 non-null   int64  \n",
      " 8   HVACUsage          1232 non-null   object \n",
      " 9   LightingUsage      1232 non-null   object \n",
      " 10  RenewableEnergy    1232 non-null   float64\n",
      " 11  EnergyConsumption  1232 non-null   object \n",
      "dtypes: float64(4), int64(2), object(6)\n",
      "memory usage: 115.6+ KB\n"
     ]
    }
   ],
   "source": [
    "data.info()"
   ]
  },
  {
   "cell_type": "markdown",
   "id": "97b063a0",
   "metadata": {},
   "source": [
    "The data is roughly clean so far with some correct data types and no missing values. However the \"EnergyConsumption\" column has a wrong data type where it should be float64. Therefore, we will change that data type."
   ]
  },
  {
   "cell_type": "code",
   "execution_count": 6,
   "id": "1c2d7210",
   "metadata": {},
   "outputs": [],
   "source": [
    "# Changing the data type of \"EnergyConsumption\"\n",
    "data[\"EnergyConsumption\"] = data[\"EnergyConsumption\"].astype(\"float64\")"
   ]
  },
  {
   "cell_type": "code",
   "execution_count": 7,
   "id": "ecc8905e",
   "metadata": {},
   "outputs": [
    {
     "name": "stdout",
     "output_type": "stream",
     "text": [
      "<class 'pandas.core.frame.DataFrame'>\n",
      "RangeIndex: 1232 entries, 0 to 1231\n",
      "Data columns (total 12 columns):\n",
      " #   Column             Non-Null Count  Dtype  \n",
      "---  ------             --------------  -----  \n",
      " 0   Month              1232 non-null   object \n",
      " 1   Hour               1232 non-null   int64  \n",
      " 2   DayOfWeek          1232 non-null   object \n",
      " 3   Holiday            1232 non-null   object \n",
      " 4   Temperature        1232 non-null   float64\n",
      " 5   Humidity           1232 non-null   float64\n",
      " 6   SquareFootage      1232 non-null   float64\n",
      " 7   Occupancy          1232 non-null   int64  \n",
      " 8   HVACUsage          1232 non-null   object \n",
      " 9   LightingUsage      1232 non-null   object \n",
      " 10  RenewableEnergy    1232 non-null   float64\n",
      " 11  EnergyConsumption  1229 non-null   float64\n",
      "dtypes: float64(5), int64(2), object(5)\n",
      "memory usage: 115.6+ KB\n"
     ]
    }
   ],
   "source": [
    "# Recheck the data types\n",
    "data.info()"
   ]
  },
  {
   "cell_type": "markdown",
   "id": "d62ee845",
   "metadata": {},
   "source": [
    "### Check if there are more missing data after conversion"
   ]
  },
  {
   "cell_type": "code",
   "execution_count": 8,
   "id": "ea682ab7",
   "metadata": {},
   "outputs": [
    {
     "data": {
      "text/html": [
       "<div>\n",
       "<style scoped>\n",
       "    .dataframe tbody tr th:only-of-type {\n",
       "        vertical-align: middle;\n",
       "    }\n",
       "\n",
       "    .dataframe tbody tr th {\n",
       "        vertical-align: top;\n",
       "    }\n",
       "\n",
       "    .dataframe thead th {\n",
       "        text-align: right;\n",
       "    }\n",
       "</style>\n",
       "<table border=\"1\" class=\"dataframe\">\n",
       "  <thead>\n",
       "    <tr style=\"text-align: right;\">\n",
       "      <th></th>\n",
       "      <th>Number_Of_Data_Missing</th>\n",
       "      <th>Percentage</th>\n",
       "    </tr>\n",
       "  </thead>\n",
       "  <tbody>\n",
       "    <tr>\n",
       "      <th>Month</th>\n",
       "      <td>0</td>\n",
       "      <td>0.00</td>\n",
       "    </tr>\n",
       "    <tr>\n",
       "      <th>Hour</th>\n",
       "      <td>0</td>\n",
       "      <td>0.00</td>\n",
       "    </tr>\n",
       "    <tr>\n",
       "      <th>DayOfWeek</th>\n",
       "      <td>0</td>\n",
       "      <td>0.00</td>\n",
       "    </tr>\n",
       "    <tr>\n",
       "      <th>Holiday</th>\n",
       "      <td>0</td>\n",
       "      <td>0.00</td>\n",
       "    </tr>\n",
       "    <tr>\n",
       "      <th>Temperature</th>\n",
       "      <td>0</td>\n",
       "      <td>0.00</td>\n",
       "    </tr>\n",
       "    <tr>\n",
       "      <th>Humidity</th>\n",
       "      <td>0</td>\n",
       "      <td>0.00</td>\n",
       "    </tr>\n",
       "    <tr>\n",
       "      <th>SquareFootage</th>\n",
       "      <td>0</td>\n",
       "      <td>0.00</td>\n",
       "    </tr>\n",
       "    <tr>\n",
       "      <th>Occupancy</th>\n",
       "      <td>0</td>\n",
       "      <td>0.00</td>\n",
       "    </tr>\n",
       "    <tr>\n",
       "      <th>HVACUsage</th>\n",
       "      <td>0</td>\n",
       "      <td>0.00</td>\n",
       "    </tr>\n",
       "    <tr>\n",
       "      <th>LightingUsage</th>\n",
       "      <td>0</td>\n",
       "      <td>0.00</td>\n",
       "    </tr>\n",
       "    <tr>\n",
       "      <th>RenewableEnergy</th>\n",
       "      <td>0</td>\n",
       "      <td>0.00</td>\n",
       "    </tr>\n",
       "    <tr>\n",
       "      <th>EnergyConsumption</th>\n",
       "      <td>3</td>\n",
       "      <td>0.24</td>\n",
       "    </tr>\n",
       "  </tbody>\n",
       "</table>\n",
       "</div>"
      ],
      "text/plain": [
       "                   Number_Of_Data_Missing  Percentage\n",
       "Month                                   0        0.00\n",
       "Hour                                    0        0.00\n",
       "DayOfWeek                               0        0.00\n",
       "Holiday                                 0        0.00\n",
       "Temperature                             0        0.00\n",
       "Humidity                                0        0.00\n",
       "SquareFootage                           0        0.00\n",
       "Occupancy                               0        0.00\n",
       "HVACUsage                               0        0.00\n",
       "LightingUsage                           0        0.00\n",
       "RenewableEnergy                         0        0.00\n",
       "EnergyConsumption                       3        0.24"
      ]
     },
     "execution_count": 8,
     "metadata": {},
     "output_type": "execute_result"
    }
   ],
   "source": [
    "missing_data_count = pd.DataFrame(data.isna().sum())\n",
    "missing_data_count.columns = [\"Number_Of_Data_Missing\"]\n",
    "missing_data_count[\"Percentage\"] = round(missing_data_count[\"Number_Of_Data_Missing\"]/len(data) * 100, 2)\n",
    "missing_data_count"
   ]
  },
  {
   "cell_type": "code",
   "execution_count": 9,
   "id": "d455ffdc",
   "metadata": {},
   "outputs": [
    {
     "data": {
      "text/html": [
       "<div>\n",
       "<style scoped>\n",
       "    .dataframe tbody tr th:only-of-type {\n",
       "        vertical-align: middle;\n",
       "    }\n",
       "\n",
       "    .dataframe tbody tr th {\n",
       "        vertical-align: top;\n",
       "    }\n",
       "\n",
       "    .dataframe thead th {\n",
       "        text-align: right;\n",
       "    }\n",
       "</style>\n",
       "<table border=\"1\" class=\"dataframe\">\n",
       "  <thead>\n",
       "    <tr style=\"text-align: right;\">\n",
       "      <th></th>\n",
       "      <th>Number_Of_Data_Missing</th>\n",
       "      <th>Percentage</th>\n",
       "    </tr>\n",
       "  </thead>\n",
       "  <tbody>\n",
       "    <tr>\n",
       "      <th>Month</th>\n",
       "      <td>0</td>\n",
       "      <td>0.0</td>\n",
       "    </tr>\n",
       "    <tr>\n",
       "      <th>Hour</th>\n",
       "      <td>0</td>\n",
       "      <td>0.0</td>\n",
       "    </tr>\n",
       "    <tr>\n",
       "      <th>DayOfWeek</th>\n",
       "      <td>0</td>\n",
       "      <td>0.0</td>\n",
       "    </tr>\n",
       "    <tr>\n",
       "      <th>Holiday</th>\n",
       "      <td>0</td>\n",
       "      <td>0.0</td>\n",
       "    </tr>\n",
       "    <tr>\n",
       "      <th>Temperature</th>\n",
       "      <td>0</td>\n",
       "      <td>0.0</td>\n",
       "    </tr>\n",
       "    <tr>\n",
       "      <th>Humidity</th>\n",
       "      <td>0</td>\n",
       "      <td>0.0</td>\n",
       "    </tr>\n",
       "    <tr>\n",
       "      <th>SquareFootage</th>\n",
       "      <td>0</td>\n",
       "      <td>0.0</td>\n",
       "    </tr>\n",
       "    <tr>\n",
       "      <th>Occupancy</th>\n",
       "      <td>0</td>\n",
       "      <td>0.0</td>\n",
       "    </tr>\n",
       "    <tr>\n",
       "      <th>HVACUsage</th>\n",
       "      <td>0</td>\n",
       "      <td>0.0</td>\n",
       "    </tr>\n",
       "    <tr>\n",
       "      <th>LightingUsage</th>\n",
       "      <td>0</td>\n",
       "      <td>0.0</td>\n",
       "    </tr>\n",
       "    <tr>\n",
       "      <th>RenewableEnergy</th>\n",
       "      <td>0</td>\n",
       "      <td>0.0</td>\n",
       "    </tr>\n",
       "    <tr>\n",
       "      <th>EnergyConsumption</th>\n",
       "      <td>0</td>\n",
       "      <td>0.0</td>\n",
       "    </tr>\n",
       "  </tbody>\n",
       "</table>\n",
       "</div>"
      ],
      "text/plain": [
       "                   Number_Of_Data_Missing  Percentage\n",
       "Month                                   0         0.0\n",
       "Hour                                    0         0.0\n",
       "DayOfWeek                               0         0.0\n",
       "Holiday                                 0         0.0\n",
       "Temperature                             0         0.0\n",
       "Humidity                                0         0.0\n",
       "SquareFootage                           0         0.0\n",
       "Occupancy                               0         0.0\n",
       "HVACUsage                               0         0.0\n",
       "LightingUsage                           0         0.0\n",
       "RenewableEnergy                         0         0.0\n",
       "EnergyConsumption                       0         0.0"
      ]
     },
     "execution_count": 9,
     "metadata": {},
     "output_type": "execute_result"
    }
   ],
   "source": [
    "# Since there are some missing values in the dataset, we need to handle them.\n",
    "data = data.dropna(axis=0)\n",
    "\n",
    "# Recheck the data\n",
    "missing_data_count = pd.DataFrame(data.isna().sum())\n",
    "missing_data_count.columns = [\"Number_Of_Data_Missing\"]\n",
    "missing_data_count[\"Percentage\"] = round(missing_data_count[\"Number_Of_Data_Missing\"]/len(data) * 100, 2)\n",
    "missing_data_count"
   ]
  },
  {
   "cell_type": "markdown",
   "id": "70112b7d",
   "metadata": {},
   "source": [
    "### Check the Range of the \"Hours\" Column\n",
    "\n",
    "Let's check the \"Hours\" to get the range of the time is it a 12 hour format or a 24 hour format"
   ]
  },
  {
   "cell_type": "code",
   "execution_count": 10,
   "id": "b706e508",
   "metadata": {},
   "outputs": [
    {
     "data": {
      "text/plain": [
       "(0, 23)"
      ]
     },
     "execution_count": 10,
     "metadata": {},
     "output_type": "execute_result"
    }
   ],
   "source": [
    "min(data[\"Hour\"]), max(data[\"Hour\"]) "
   ]
  },
  {
   "cell_type": "markdown",
   "id": "cd061783",
   "metadata": {},
   "source": [
    "Looks like the data is in a 24 hour format so lets change it to a time format of HH:MM"
   ]
  },
  {
   "cell_type": "markdown",
   "id": "9bc6e164",
   "metadata": {},
   "source": [
    "### Plotting Data Distribution"
   ]
  },
  {
   "cell_type": "markdown",
   "id": "55f9c670",
   "metadata": {},
   "source": [
    "#### Functions for plotting the distribution"
   ]
  },
  {
   "cell_type": "code",
   "execution_count": 11,
   "id": "110e1d4a",
   "metadata": {},
   "outputs": [],
   "source": [
    "#setting the colors generator\n",
    "def fill_color_generator():\n",
    "    \"\"\"This generates a color\n",
    "\n",
    "    Returns:\n",
    "        color: An R,G,B value with a range of 0 to 1\n",
    "    \"\"\"\n",
    "    r = random.randint(0, 255)\n",
    "    g = random.randint(0, 255)\n",
    "    b = random.randint(0, 255)\n",
    "    return (r/255, g/255, b/255)"
   ]
  },
  {
   "cell_type": "code",
   "execution_count": 12,
   "id": "f1c837e1",
   "metadata": {},
   "outputs": [],
   "source": [
    "#function for plotting numerical data distribution\n",
    "def numeric_dist_plot(data: pd.DataFrame):\n",
    "    \"\"\"This function creates a plot of the distribution of the numerical data. \n",
    "\n",
    "    Args:\n",
    "        data (pd.DataFrame): Numeric pandas dataframe\n",
    "\n",
    "    Raises:\n",
    "        TypeError: The following columns are not numeric: {non_numeric_cols}\n",
    "        This is due to some of the columns are not numeric.\n",
    "\n",
    "    Returns:\n",
    "        Displays a plot of\n",
    "    \"\"\"\n",
    "    # Checks\n",
    "    ## Check if all columns are numeric\n",
    "    non_numeric_cols = [col for col in data.columns if not pd.api.types.is_numeric_dtype(data[col])]\n",
    "    if non_numeric_cols:\n",
    "        raise TypeError(f\"The following columns are not numeric: {non_numeric_cols}\")\n",
    "    \n",
    "    # Plotting the numerical data\n",
    "    #titles for plots/figures\n",
    "    fig_titles = []\n",
    "\n",
    "    for colName in data.columns:\n",
    "        fig_titles.append(f\"Boxplot Of {colName}\")\n",
    "        fig_titles.append(f\"Histogram Of {colName}\")\n",
    "        \n",
    "    fill_color_dict = {}\n",
    "    for colName in data.columns:\n",
    "        fill_color_dict[colName] = fill_color_generator()\n",
    "\n",
    "    # make subplot for each column name\n",
    "    num_rows = len(data.columns)\n",
    "    fig, axes = plt.subplots(nrows=num_rows, ncols=2, figsize=(12, num_rows * 3))\n",
    "\n",
    "    # Flatten axes for easier indexing when there's more than 1 row\n",
    "    axes = axes if num_rows > 1 else [axes]\n",
    "\n",
    "    for i, column in enumerate(data.columns):\n",
    "        color = fill_color_dict[column]\n",
    "\n",
    "        # Boxplot\n",
    "        axes[i][0].boxplot(data[column].dropna(), vert=False, patch_artist=True,\n",
    "                        boxprops=dict(facecolor=color, color=color),\n",
    "                        medianprops=dict(color=\"black\"))\n",
    "        axes[i][0].set_title(f\"Boxplot of {column}\")\n",
    "        axes[i][0].set_xlabel(column)\n",
    "\n",
    "        # Histogram\n",
    "        axes[i][1].hist(data[column].dropna(), bins=20, color=color, alpha=0.7, edgecolor='black')\n",
    "        axes[i][1].set_title(f\"Histogram of {column}\")\n",
    "        axes[i][1].set_xlabel(column)\n",
    "\n",
    "    # Overall layout\n",
    "    fig.suptitle(\"Boxplot and Distribution Visualization for Each Numeric Column\", fontsize=16)\n",
    "    fig.tight_layout(rect=[0, 0, 1, 0.97])  # Adjust layout to fit title\n",
    "    return plt"
   ]
  },
  {
   "cell_type": "code",
   "execution_count": 13,
   "id": "a1a26647",
   "metadata": {},
   "outputs": [],
   "source": [
    "#function for plotting categorical data distribution\n",
    "def categoric_dist_plot(data: pd.DataFrame):\n",
    "    \"\"\"_summary_\n",
    "\n",
    "    Args:\n",
    "        data (pd.DataFrame): Categorical pandas dataframe\n",
    "\n",
    "    Raises:\n",
    "        TypeError: The following columns are not categorical: {non_numeric_cols}\n",
    "        This is due to some of the columns are not categorical.\n",
    "\n",
    "    Returns:\n",
    "        plt: Plot of the categorical data distribution\n",
    "    \"\"\"\n",
    "    # Checks\n",
    "    ## Check if all columns are numeric\n",
    "    non_categoric_cols = [col for col in data.columns if pd.api.types.is_numeric_dtype(data[col])]\n",
    "    if non_categoric_cols:\n",
    "        raise TypeError(f\"The following columns are not categoric: {non_categoric_cols}\")\n",
    "\n",
    "    # Create subplots: one row for each categorical column\n",
    "    num_rows = len(data.columns)\n",
    "    fig, axes = plt.subplots(nrows=num_rows, ncols=1, figsize=(10, num_rows * 3), sharex=False)\n",
    "\n",
    "    # Flatten axes for easier handling if there's more than 1 row\n",
    "    axes = axes if num_rows > 1 else [axes]\n",
    "\n",
    "    # Plot each categorical distribution\n",
    "    for i, col in enumerate(data.columns):\n",
    "        counts = data[col].value_counts(dropna=False)  # Get the count values\n",
    "        counts.index = counts.index.astype(str) #convert the categorical values to strings since there are numerical categories\n",
    "        \n",
    "        #Create the bar plot\n",
    "        axes[i].bar(counts.index, counts)\n",
    "        \n",
    "        # Set title and labels\n",
    "        axes[i].set_title(f\"Distribution of {col}\", fontsize=12)\n",
    "        axes[i].set_ylabel(\"Count\")\n",
    "        axes[i].set_xlabel(\"Category\")\n",
    "        \n",
    "        # Rotate x-axis labels for better readability\n",
    "        axes[i].tick_params(axis='x', rotation=90)\n",
    "\n",
    "    # Add an overall title and adjust layout\n",
    "    fig.suptitle(\"Bar Plots for Categorical Columns\", fontsize=16, y=1.02)\n",
    "    fig.tight_layout(h_pad=2.0)  # Adjust spacing between rows\n",
    "    return plt"
   ]
  },
  {
   "cell_type": "markdown",
   "id": "49cbad03",
   "metadata": {},
   "source": [
    "#### Splitting Data to Categorical and Numeric"
   ]
  },
  {
   "cell_type": "code",
   "execution_count": 14,
   "id": "faee940d",
   "metadata": {},
   "outputs": [],
   "source": [
    "numeric_data = data.select_dtypes(include=[np.number])\n",
    "categorical_data = data.select_dtypes(exclude=[np.number])"
   ]
  },
  {
   "cell_type": "markdown",
   "id": "e99dde90",
   "metadata": {},
   "source": [
    "#### Numerical Data Plot"
   ]
  },
  {
   "cell_type": "code",
   "execution_count": 15,
   "id": "d894b39a",
   "metadata": {},
   "outputs": [
    {
     "data": {
      "text/html": [
       "<div>\n",
       "<style scoped>\n",
       "    .dataframe tbody tr th:only-of-type {\n",
       "        vertical-align: middle;\n",
       "    }\n",
       "\n",
       "    .dataframe tbody tr th {\n",
       "        vertical-align: top;\n",
       "    }\n",
       "\n",
       "    .dataframe thead th {\n",
       "        text-align: right;\n",
       "    }\n",
       "</style>\n",
       "<table border=\"1\" class=\"dataframe\">\n",
       "  <thead>\n",
       "    <tr style=\"text-align: right;\">\n",
       "      <th></th>\n",
       "      <th>Hour</th>\n",
       "      <th>Temperature</th>\n",
       "      <th>Humidity</th>\n",
       "      <th>SquareFootage</th>\n",
       "      <th>Occupancy</th>\n",
       "      <th>RenewableEnergy</th>\n",
       "      <th>EnergyConsumption</th>\n",
       "    </tr>\n",
       "  </thead>\n",
       "  <tbody>\n",
       "    <tr>\n",
       "      <th>0</th>\n",
       "      <td>3</td>\n",
       "      <td>24.492063</td>\n",
       "      <td>59.969085</td>\n",
       "      <td>1403.454805</td>\n",
       "      <td>7</td>\n",
       "      <td>29.965327</td>\n",
       "      <td>82.057358</td>\n",
       "    </tr>\n",
       "    <tr>\n",
       "      <th>1</th>\n",
       "      <td>8</td>\n",
       "      <td>26.312114</td>\n",
       "      <td>51.408711</td>\n",
       "      <td>1220.547133</td>\n",
       "      <td>8</td>\n",
       "      <td>5.986875</td>\n",
       "      <td>83.889177</td>\n",
       "    </tr>\n",
       "    <tr>\n",
       "      <th>2</th>\n",
       "      <td>19</td>\n",
       "      <td>20.516186</td>\n",
       "      <td>40.918500</td>\n",
       "      <td>1114.230124</td>\n",
       "      <td>8</td>\n",
       "      <td>20.489098</td>\n",
       "      <td>66.202098</td>\n",
       "    </tr>\n",
       "    <tr>\n",
       "      <th>3</th>\n",
       "      <td>3</td>\n",
       "      <td>20.879426</td>\n",
       "      <td>46.859237</td>\n",
       "      <td>1096.207227</td>\n",
       "      <td>7</td>\n",
       "      <td>21.321157</td>\n",
       "      <td>66.439179</td>\n",
       "    </tr>\n",
       "    <tr>\n",
       "      <th>4</th>\n",
       "      <td>17</td>\n",
       "      <td>23.015216</td>\n",
       "      <td>48.998158</td>\n",
       "      <td>1999.982252</td>\n",
       "      <td>1</td>\n",
       "      <td>3.966075</td>\n",
       "      <td>76.902272</td>\n",
       "    </tr>\n",
       "  </tbody>\n",
       "</table>\n",
       "</div>"
      ],
      "text/plain": [
       "   Hour  Temperature   Humidity  SquareFootage  Occupancy  RenewableEnergy  \\\n",
       "0     3    24.492063  59.969085    1403.454805          7        29.965327   \n",
       "1     8    26.312114  51.408711    1220.547133          8         5.986875   \n",
       "2    19    20.516186  40.918500    1114.230124          8        20.489098   \n",
       "3     3    20.879426  46.859237    1096.207227          7        21.321157   \n",
       "4    17    23.015216  48.998158    1999.982252          1         3.966075   \n",
       "\n",
       "   EnergyConsumption  \n",
       "0          82.057358  \n",
       "1          83.889177  \n",
       "2          66.202098  \n",
       "3          66.439179  \n",
       "4          76.902272  "
      ]
     },
     "execution_count": 15,
     "metadata": {},
     "output_type": "execute_result"
    }
   ],
   "source": [
    "numeric_data.head()"
   ]
  },
  {
   "cell_type": "code",
   "execution_count": 16,
   "id": "b5498438",
   "metadata": {},
   "outputs": [
    {
     "data": {
      "text/plain": [
       "<module 'matplotlib.pyplot' from 'c:\\\\Users\\\\Panther\\\\anaconda3\\\\envs\\\\TF_env\\\\lib\\\\site-packages\\\\matplotlib\\\\pyplot.py'>"
      ]
     },
     "execution_count": 16,
     "metadata": {},
     "output_type": "execute_result"
    },
    {
     "data": {
      "image/png": "[encoded data removed]",
      "text/plain": [
       "<Figure size 1200x2100 with 14 Axes>"
      ]
     },
     "metadata": {},
     "output_type": "display_data"
    }
   ],
   "source": [
    "numeric_dist_plot(numeric_data)"
   ]
  },
  {
   "cell_type": "markdown",
   "id": "fe2fb5ea",
   "metadata": {},
   "source": [
    "#### Categorical Data Plot"
   ]
  },
  {
   "cell_type": "code",
   "execution_count": 17,
   "id": "96cc9693",
   "metadata": {},
   "outputs": [
    {
     "data": {
      "text/html": [
       "<div>\n",
       "<style scoped>\n",
       "    .dataframe tbody tr th:only-of-type {\n",
       "        vertical-align: middle;\n",
       "    }\n",
       "\n",
       "    .dataframe tbody tr th {\n",
       "        vertical-align: top;\n",
       "    }\n",
       "\n",
       "    .dataframe thead th {\n",
       "        text-align: right;\n",
       "    }\n",
       "</style>\n",
       "<table border=\"1\" class=\"dataframe\">\n",
       "  <thead>\n",
       "    <tr style=\"text-align: right;\">\n",
       "      <th></th>\n",
       "      <th>Month</th>\n",
       "      <th>DayOfWeek</th>\n",
       "      <th>Holiday</th>\n",
       "      <th>HVACUsage</th>\n",
       "      <th>LightingUsage</th>\n",
       "    </tr>\n",
       "  </thead>\n",
       "  <tbody>\n",
       "    <tr>\n",
       "      <th>0</th>\n",
       "      <td>8</td>\n",
       "      <td>Sunday</td>\n",
       "      <td>Yes</td>\n",
       "      <td>On</td>\n",
       "      <td>Off</td>\n",
       "    </tr>\n",
       "    <tr>\n",
       "      <th>1</th>\n",
       "      <td>1</td>\n",
       "      <td>Wednesday</td>\n",
       "      <td>No</td>\n",
       "      <td>On</td>\n",
       "      <td>Off</td>\n",
       "    </tr>\n",
       "    <tr>\n",
       "      <th>2</th>\n",
       "      <td>1</td>\n",
       "      <td>Sunday</td>\n",
       "      <td>Yes</td>\n",
       "      <td>Off</td>\n",
       "      <td>On</td>\n",
       "    </tr>\n",
       "    <tr>\n",
       "      <th>3</th>\n",
       "      <td>7</td>\n",
       "      <td>Wednesday</td>\n",
       "      <td>Yes</td>\n",
       "      <td>Off</td>\n",
       "      <td>On</td>\n",
       "    </tr>\n",
       "    <tr>\n",
       "      <th>4</th>\n",
       "      <td>10</td>\n",
       "      <td>Saturday</td>\n",
       "      <td>No</td>\n",
       "      <td>Off</td>\n",
       "      <td>Off</td>\n",
       "    </tr>\n",
       "  </tbody>\n",
       "</table>\n",
       "</div>"
      ],
      "text/plain": [
       "  Month  DayOfWeek Holiday HVACUsage LightingUsage\n",
       "0     8     Sunday     Yes        On           Off\n",
       "1     1  Wednesday      No        On           Off\n",
       "2     1     Sunday     Yes       Off            On\n",
       "3     7  Wednesday     Yes       Off            On\n",
       "4    10   Saturday      No       Off           Off"
      ]
     },
     "execution_count": 17,
     "metadata": {},
     "output_type": "execute_result"
    }
   ],
   "source": [
    "categorical_data.head()"
   ]
  },
  {
   "cell_type": "code",
   "execution_count": 18,
   "id": "e4b60c21",
   "metadata": {},
   "outputs": [
    {
     "data": {
      "text/plain": [
       "<module 'matplotlib.pyplot' from 'c:\\\\Users\\\\Panther\\\\anaconda3\\\\envs\\\\TF_env\\\\lib\\\\site-packages\\\\matplotlib\\\\pyplot.py'>"
      ]
     },
     "execution_count": 18,
     "metadata": {},
     "output_type": "execute_result"
    },
    {
     "data": {
      "image/png": "[encoded data removed]",
      "text/plain": [
       "<Figure size 1000x1500 with 5 Axes>"
      ]
     },
     "metadata": {},
     "output_type": "display_data"
    }
   ],
   "source": [
    "categoric_dist_plot(categorical_data)"
   ]
  },
  {
   "cell_type": "markdown",
   "id": "7edf95bc",
   "metadata": {},
   "source": [
    "### Key Insights\n",
    "#### Problems With the Data\n",
    "1. **Inconcistent Data Values**:\n",
    "   - The months in the data is inconsistent. There are 3 types of month in the data (e.g. Numerical, partial month name, and full month name)\n",
    "2. **Wierd Data Range**:\n",
    "   - There seems to be a negative number of Occupancy as seen in the graph, and that is a outlier since there is nothing such as a negative number of people.\n",
    "3. **Skewness**:\n",
    "   - There are some skewness in the month data where there are mostly data from january. Which may impact model's performance/\n",
    "   - The rest of the data are mostly uniform except for EnergyConsumption where it has a normal distribution. \n",
    "\n",
    "#### Small Fixes\n",
    "4. **Data Types**:\n",
    "- Changing the data type of \"EnergyConsumption\" from `object` to `float64`\n",
    "- Removed Missing values from the data\n",
    "\n",
    "#### Next Steps\n",
    "- Further Clean the data due to inconsistencies"
   ]
  },
  {
   "cell_type": "markdown",
   "id": "79d05511",
   "metadata": {},
   "source": [
    "## Data Cleaning\n",
    "\n",
    "- Standardizing the \"month\" data\n",
    "- Cleaning the negative number of occupancy"
   ]
  },
  {
   "cell_type": "markdown",
   "id": "66811a88",
   "metadata": {},
   "source": [
    "### Standardizing the \"month\" data"
   ]
  },
  {
   "cell_type": "markdown",
   "id": "bdd10059",
   "metadata": {},
   "source": [
    "#### String to month number"
   ]
  },
  {
   "cell_type": "code",
   "execution_count": 19,
   "id": "1649e8b5",
   "metadata": {},
   "outputs": [],
   "source": [
    "def str_to_month(String: str) -> str:\n",
    "    \"\"\"This function converts a string to a month type. The string can be in the format of \"Jan\", \"Feb\", etc. or \"January\", \"February\", etc.\n",
    "    It will return the month number as a string. If the string is not in the correct format, it will return NaT.\n",
    "\n",
    "    Args:\n",
    "        String (str): The string to be converted to a month number.\n",
    "\n",
    "    Raises:\n",
    "        TypeError: 'The following value is not a string: {String}'\n",
    "        This is due to the fact that the input is not a string.\n",
    "\n",
    "    Returns:\n",
    "        str: The month number as a string or NaT if the conversion failed.\n",
    "    \"\"\"\n",
    "    # Check\n",
    "    ## Check if the text is a string\n",
    "    if not isinstance(String, str):\n",
    "        raise TypeError(f\"The following value is not a string: {String}\")\n",
    "    \n",
    "    try:\n",
    "        # If the string is already in a number format, convert it to a month number\n",
    "        if String.isdecimal():\n",
    "            # Check if the string is a number between 1 and 12 (january to december)\n",
    "            num = int(String)\n",
    "            if 1 <= num <= 12:\n",
    "                dt = pd.to_datetime(num, format = '%m')\n",
    "                return f\"{dt.month:01d}\"\n",
    "            else:\n",
    "                return pd.NaT\n",
    "            \n",
    "        # Try full month name\n",
    "        try:\n",
    "            dt = pd.to_datetime(String, format = '%B')  # e.g., 'January'\n",
    "        except ValueError:\n",
    "            dt = pd.to_datetime(String, format = '%b')  # e.g., 'Jan'\n",
    "\n",
    "        return f\"{dt.month:01d}\"\n",
    "    \n",
    "    except Exception:\n",
    "        #Return NA if the string conversion failed\n",
    "        return pd.NaT"
   ]
  },
  {
   "cell_type": "markdown",
   "id": "69570cbb",
   "metadata": {},
   "source": [
    "#### Apply the month to number function to the dataset"
   ]
  },
  {
   "cell_type": "code",
   "execution_count": 20,
   "id": "39b3ca30",
   "metadata": {},
   "outputs": [],
   "source": [
    "data[\"Month\"] = data[\"Month\"].apply(str_to_month)"
   ]
  },
  {
   "cell_type": "markdown",
   "id": "9d938350",
   "metadata": {},
   "source": [
    "### Cleaning the data with negative occupancy"
   ]
  },
  {
   "cell_type": "markdown",
   "id": "5ebc6f0f",
   "metadata": {},
   "source": [
    "#### Check if the data is present"
   ]
  },
  {
   "cell_type": "code",
   "execution_count": 21,
   "id": "3c645993",
   "metadata": {},
   "outputs": [
    {
     "data": {
      "text/html": [
       "<div>\n",
       "<style scoped>\n",
       "    .dataframe tbody tr th:only-of-type {\n",
       "        vertical-align: middle;\n",
       "    }\n",
       "\n",
       "    .dataframe tbody tr th {\n",
       "        vertical-align: top;\n",
       "    }\n",
       "\n",
       "    .dataframe thead th {\n",
       "        text-align: right;\n",
       "    }\n",
       "</style>\n",
       "<table border=\"1\" class=\"dataframe\">\n",
       "  <thead>\n",
       "    <tr style=\"text-align: right;\">\n",
       "      <th></th>\n",
       "      <th>Month</th>\n",
       "      <th>Hour</th>\n",
       "      <th>DayOfWeek</th>\n",
       "      <th>Holiday</th>\n",
       "      <th>Temperature</th>\n",
       "      <th>Humidity</th>\n",
       "      <th>SquareFootage</th>\n",
       "      <th>Occupancy</th>\n",
       "      <th>HVACUsage</th>\n",
       "      <th>LightingUsage</th>\n",
       "      <th>RenewableEnergy</th>\n",
       "      <th>EnergyConsumption</th>\n",
       "    </tr>\n",
       "  </thead>\n",
       "  <tbody>\n",
       "    <tr>\n",
       "      <th>975</th>\n",
       "      <td>10</td>\n",
       "      <td>4</td>\n",
       "      <td>Thursday</td>\n",
       "      <td>No</td>\n",
       "      <td>21.636782</td>\n",
       "      <td>51.998664</td>\n",
       "      <td>1442.174322</td>\n",
       "      <td>-5</td>\n",
       "      <td>On</td>\n",
       "      <td>Off</td>\n",
       "      <td>26.078521</td>\n",
       "      <td>84.024705</td>\n",
       "    </tr>\n",
       "  </tbody>\n",
       "</table>\n",
       "</div>"
      ],
      "text/plain": [
       "    Month  Hour DayOfWeek Holiday  Temperature   Humidity  SquareFootage  \\\n",
       "975    10     4  Thursday      No    21.636782  51.998664    1442.174322   \n",
       "\n",
       "     Occupancy HVACUsage LightingUsage  RenewableEnergy  EnergyConsumption  \n",
       "975         -5        On           Off        26.078521          84.024705  "
      ]
     },
     "execution_count": 21,
     "metadata": {},
     "output_type": "execute_result"
    }
   ],
   "source": [
    "data[data[\"Occupancy\"] < 0]"
   ]
  },
  {
   "cell_type": "markdown",
   "id": "cd4bfbe7",
   "metadata": {},
   "source": [
    "There is an occupancy with -5 person which is impossible since there is no such thing as negative number of persons. So removing the data would be beneficial for a cleaner data fror the deep learning model."
   ]
  },
  {
   "cell_type": "code",
   "execution_count": 22,
   "id": "278866b3",
   "metadata": {},
   "outputs": [],
   "source": [
    "data = data.drop(data[data[\"Occupancy\"] < 0].index).reset_index(drop=True)"
   ]
  },
  {
   "cell_type": "markdown",
   "id": "e43485dc",
   "metadata": {},
   "source": [
    "### Rechecking the distribution of the data"
   ]
  },
  {
   "cell_type": "code",
   "execution_count": 23,
   "id": "cc3ecfdc",
   "metadata": {},
   "outputs": [],
   "source": [
    "categorical_data = data.select_dtypes(exclude=[np.number])\n",
    "numeric_data = data.select_dtypes(include=[np.number])"
   ]
  },
  {
   "cell_type": "code",
   "execution_count": 24,
   "id": "a79f0d5c",
   "metadata": {},
   "outputs": [
    {
     "data": {
      "text/plain": [
       "<module 'matplotlib.pyplot' from 'c:\\\\Users\\\\Panther\\\\anaconda3\\\\envs\\\\TF_env\\\\lib\\\\site-packages\\\\matplotlib\\\\pyplot.py'>"
      ]
     },
     "execution_count": 24,
     "metadata": {},
     "output_type": "execute_result"
    },
    {
     "data": {
      "image/png": "[encoded data removed]",
      "text/plain": [
       "<Figure size 1200x2100 with 14 Axes>"
      ]
     },
     "metadata": {},
     "output_type": "display_data"
    }
   ],
   "source": [
    "numeric_dist_plot(numeric_data)"
   ]
  },
  {
   "cell_type": "code",
   "execution_count": 25,
   "id": "3f260746",
   "metadata": {},
   "outputs": [
    {
     "data": {
      "text/plain": [
       "<module 'matplotlib.pyplot' from 'c:\\\\Users\\\\Panther\\\\anaconda3\\\\envs\\\\TF_env\\\\lib\\\\site-packages\\\\matplotlib\\\\pyplot.py'>"
      ]
     },
     "execution_count": 25,
     "metadata": {},
     "output_type": "execute_result"
    },
    {
     "data": {
      "image/png": "[encoded data removed]",
      "text/plain": [
       "<Figure size 1000x1500 with 5 Axes>"
      ]
     },
     "metadata": {},
     "output_type": "display_data"
    }
   ],
   "source": [
    "categoric_dist_plot(categorical_data)"
   ]
  },
  {
   "cell_type": "markdown",
   "id": "2e818604",
   "metadata": {},
   "source": [
    "### Summary Of Data Cleaning\n",
    "#### Key Insights:\n",
    "1. **Inconsistent Data Values**:\n",
    "    - The \"Month\" column had inconsistent formats (e.g., numeric, full names, abbreviations), which were standardized.\n",
    "2. **Outliers**:\n",
    "    - Negative values in the \"Occupancy\" column were identified and removed.\n",
    "\n",
    "3. **Skewness**:\n",
    "    - The \"EnergyConsumption\" column has a normal distribution, while other numerical columns show varying degrees of skewness.\n",
    "\n",
    "4. **Categorical Data**:\n",
    "    - Some categorical columns, such as \"Holiday\" and \"HVACUsage,\" have imbalanced distributions, which may impact model performance.\n",
    "\n",
    "5. **Data Cleaning**:\n",
    "    - After cleaning, the dataset is now consistent and ready for preprocessing and modeling.\n",
    "\n",
    "#### Next Steps:\n",
    "- Scale numerical data to ensure uniformity.\n",
    "- Encode categorical data for compatibility with machine learning models.\n",
    "- Split the data into training, validation, and testing sets for model development.\n",
    "\n",
    "**At this point**:\n",
    "- The dataset is now clean and ready for further preprocessing or modeling.\n",
    "- The handling of missing values and standardization of date formats ensures consistency."
   ]
  },
  {
   "cell_type": "markdown",
   "id": "e6ea9d77",
   "metadata": {},
   "source": [
    "## Data Prepressing"
   ]
  },
  {
   "cell_type": "markdown",
   "id": "85087962",
   "metadata": {},
   "source": [
    "### Spitting data to train, test, and validation"
   ]
  },
  {
   "cell_type": "markdown",
   "id": "7b7cd7cb",
   "metadata": {},
   "source": [
    "#### Split data to the predictor and outcome"
   ]
  },
  {
   "cell_type": "code",
   "execution_count": 26,
   "id": "b06772ba",
   "metadata": {},
   "outputs": [],
   "source": [
    "x_data = data.drop(columns=[\"EnergyConsumption\"])\n",
    "y_data = data[\"EnergyConsumption\"]"
   ]
  },
  {
   "cell_type": "code",
   "execution_count": 27,
   "id": "2c6b1272",
   "metadata": {},
   "outputs": [
    {
     "data": {
      "text/plain": [
       "Index(['Month', 'Hour', 'DayOfWeek', 'Holiday', 'Temperature', 'Humidity',\n",
       "       'SquareFootage', 'Occupancy', 'HVACUsage', 'LightingUsage',\n",
       "       'RenewableEnergy'],\n",
       "      dtype='object')"
      ]
     },
     "execution_count": 27,
     "metadata": {},
     "output_type": "execute_result"
    }
   ],
   "source": [
    "# Check the columns\n",
    "x_data.columns"
   ]
  },
  {
   "cell_type": "code",
   "execution_count": 28,
   "id": "3ea0ab74",
   "metadata": {},
   "outputs": [
    {
     "data": {
      "text/plain": [
       "0    82.057358\n",
       "1    83.889177\n",
       "2    66.202098\n",
       "3    66.439179\n",
       "4    76.902272\n",
       "Name: EnergyConsumption, dtype: float64"
      ]
     },
     "execution_count": 28,
     "metadata": {},
     "output_type": "execute_result"
    }
   ],
   "source": [
    "y_data.head()"
   ]
  },
  {
   "cell_type": "markdown",
   "id": "deb467cd",
   "metadata": {},
   "source": [
    "####  Split to train and test"
   ]
  },
  {
   "cell_type": "code",
   "execution_count": 29,
   "id": "aaff2c12",
   "metadata": {},
   "outputs": [
    {
     "data": {
      "text/plain": [
       "((982, 11), (246, 11), (982,), (246,))"
      ]
     },
     "execution_count": 29,
     "metadata": {},
     "output_type": "execute_result"
    }
   ],
   "source": [
    "train_x, test_x, train_y, test_y = train_test_split(x_data, y_data, test_size=0.2, random_state=42)\n",
    "train_x.shape, test_x.shape, train_y.shape, test_y.shape"
   ]
  },
  {
   "cell_type": "markdown",
   "id": "f0c504c6",
   "metadata": {},
   "source": [
    "#### Split to train and validation"
   ]
  },
  {
   "cell_type": "code",
   "execution_count": 30,
   "id": "f43181a6",
   "metadata": {},
   "outputs": [
    {
     "data": {
      "text/plain": [
       "((785, 11), (197, 11), (785,), (197,))"
      ]
     },
     "execution_count": 30,
     "metadata": {},
     "output_type": "execute_result"
    }
   ],
   "source": [
    "train_x, val_x, train_y, val_y = train_test_split(train_x, train_y, test_size=0.2, random_state=42)\n",
    "train_x.shape, val_x.shape, train_y.shape, val_y.shape"
   ]
  },
  {
   "cell_type": "markdown",
   "id": "1aa6048e",
   "metadata": {},
   "source": [
    "So after splitting the data we will obtain the following:\n",
    "<table>\n",
    "<tr>\n",
    "<th>Data</th>\n",
    "<th>Size</th>\n",
    "</tr>\n",
    "<tr>\n",
    "<td>Train</td>\n",
    "<td>788</td>\n",
    "</tr>\n",
    "<tr>\n",
    "<td>Validation</td>\n",
    "<td>197</td>\n",
    "</tr>\n",
    "<tr>\n",
    "<td>Test</td>\n",
    "<td>247</td>\n",
    "</tr>"
   ]
  },
  {
   "cell_type": "markdown",
   "id": "1715cfd2",
   "metadata": {},
   "source": [
    "### Scaling the Data"
   ]
  },
  {
   "cell_type": "markdown",
   "id": "da301e2b",
   "metadata": {},
   "source": [
    "#### Scaling the numerical data\n",
    "\n",
    "All the numerical features will use min max scaling since there are no outliers, and the data is almost uniformly distributed."
   ]
  },
  {
   "cell_type": "code",
   "execution_count": 31,
   "id": "f72c93ef",
   "metadata": {},
   "outputs": [],
   "source": [
    "hoursScaler = MinMaxScaler()\n",
    "tempScaler = MinMaxScaler()\n",
    "humidScaler = MinMaxScaler()\n",
    "squareScaler = MinMaxScaler()\n",
    "occupancyScaler = MinMaxScaler()\n",
    "renewableScaler = MinMaxScaler()\n",
    "energyScaler = MinMaxScaler()"
   ]
  },
  {
   "cell_type": "markdown",
   "id": "c72e6330",
   "metadata": {},
   "source": [
    "##### Apply to train data"
   ]
  },
  {
   "cell_type": "code",
   "execution_count": 32,
   "id": "5a1aa514",
   "metadata": {},
   "outputs": [],
   "source": [
    "# The x features\n",
    "train_x[\"Hour\"] = hoursScaler.fit_transform(train_x[[\"Hour\"]])\n",
    "train_x[\"Temperature\"] = tempScaler.fit_transform(train_x[[\"Temperature\"]])\n",
    "train_x[\"Humidity\"] = humidScaler.fit_transform(train_x[[\"Humidity\"]])\n",
    "train_x[\"SquareFootage\"] = squareScaler.fit_transform(train_x[[\"SquareFootage\"]])\n",
    "train_x[\"Occupancy\"] = occupancyScaler.fit_transform(train_x[[\"Occupancy\"]])\n",
    "train_x[\"RenewableEnergy\"] = renewableScaler.fit_transform(train_x[[\"RenewableEnergy\"]])\n",
    "\n",
    "# The y value\n",
    "train_y = energyScaler.fit_transform(train_y.values.reshape(-1, 1))"
   ]
  },
  {
   "cell_type": "markdown",
   "id": "95decdc2",
   "metadata": {},
   "source": [
    "##### Apply to validation data"
   ]
  },
  {
   "cell_type": "code",
   "execution_count": 33,
   "id": "7c0a0bc3",
   "metadata": {},
   "outputs": [],
   "source": [
    "# The x features\n",
    "val_x[\"Hour\"] = hoursScaler.transform(val_x[[\"Hour\"]])\n",
    "val_x[\"Temperature\"] = tempScaler.transform(val_x[[\"Temperature\"]])\n",
    "val_x[\"Humidity\"] = humidScaler.transform(val_x[[\"Humidity\"]])\n",
    "val_x[\"SquareFootage\"] = squareScaler.transform(val_x[[\"SquareFootage\"]])\n",
    "val_x[\"Occupancy\"] = occupancyScaler.transform(val_x[[\"Occupancy\"]])\n",
    "val_x[\"RenewableEnergy\"] = renewableScaler.transform(val_x[[\"RenewableEnergy\"]])\n",
    "\n",
    "# The y value\n",
    "val_y = energyScaler.transform(val_y.values.reshape(-1, 1))"
   ]
  },
  {
   "cell_type": "markdown",
   "id": "1cdd18eb",
   "metadata": {},
   "source": [
    "##### Apply to test data"
   ]
  },
  {
   "cell_type": "code",
   "execution_count": 34,
   "id": "77a3305a",
   "metadata": {},
   "outputs": [],
   "source": [
    "# The x features\n",
    "test_x[\"Hour\"] = hoursScaler.transform(test_x[[\"Hour\"]])\n",
    "test_x[\"Temperature\"] = tempScaler.transform(test_x[[\"Temperature\"]])\n",
    "test_x[\"Humidity\"] = humidScaler.transform(test_x[[\"Humidity\"]])\n",
    "test_x[\"SquareFootage\"] = squareScaler.transform(test_x[[\"SquareFootage\"]])\n",
    "test_x[\"Occupancy\"] = occupancyScaler.transform(test_x[[\"Occupancy\"]])\n",
    "test_x[\"RenewableEnergy\"] = renewableScaler.transform(test_x[[\"RenewableEnergy\"]])\n",
    "\n",
    "# The y value\n",
    "test_y = energyScaler.transform(test_y.values.reshape(-1, 1))"
   ]
  },
  {
   "cell_type": "markdown",
   "id": "de1bd66e",
   "metadata": {},
   "source": [
    "### Encoding the Categorical Data\n",
    "\n",
    "Binary Columns: `LightingUsage`, `HVACUsage`, `Holiday`\n",
    "\n",
    "Nominal Columns: `DayOfWeek`\n",
    "\n",
    "Ordinal Columns: `Month`"
   ]
  },
  {
   "cell_type": "code",
   "execution_count": 35,
   "id": "ee1bfab5",
   "metadata": {},
   "outputs": [
    {
     "name": "stdout",
     "output_type": "stream",
     "text": [
      "Month: ['8' '1' '7' '10' '4' '2' '5' '6' '11' '9' '12' '3'] \n",
      "\n",
      "DayOfWeek: ['Sunday' 'Wednesday' 'Saturday' 'Friday' 'Tuesday' 'Monday' 'Thursday'] \n",
      "\n",
      "Holiday: ['Yes' 'No'] \n",
      "\n",
      "HVACUsage: ['On' 'Off'] \n",
      "\n",
      "LightingUsage: ['Off' 'On'] \n",
      "\n"
     ]
    }
   ],
   "source": [
    "# The Values in the columns\n",
    "for col in categorical_data.columns:\n",
    "    print(f\"{col}: {categorical_data[col].unique()} \\n\")"
   ]
  },
  {
   "cell_type": "code",
   "execution_count": 36,
   "id": "7525ca0c",
   "metadata": {},
   "outputs": [],
   "source": [
    "binary_cols_1 = [\"Holiday\"]\n",
    "binary_cols_2 = [\"HVACUsage\", \"LightingUsage\"] # Use Label enconder (On or Off)\n",
    "nominal_cols = [\"DayOfWeek\"] # Use OneHotEncoder\n",
    "ordinal_cols = [\"Month\"] # Use OrdinalEncoder"
   ]
  },
  {
   "cell_type": "markdown",
   "id": "ad55d0b9",
   "metadata": {},
   "source": [
    "#### Encoder Setup"
   ]
  },
  {
   "cell_type": "code",
   "execution_count": 37,
   "id": "0ecb0e26",
   "metadata": {},
   "outputs": [],
   "source": [
    "bin_enc_1 = LabelEncoder()\n",
    "bin_enc_2 = LabelEncoder()\n",
    "ohe = OneHotEncoder(sparse_output=False).set_output(transform=\"pandas\")\n",
    "ordinal_enc = OrdinalEncoder(categories=[[\"1\", \"2\", \"3\", \"4\", \"5\", \"6\", \"7\", \"8\", \"9\", \"10\", \"11\", \"12\"]], handle_unknown=\"use_encoded_value\", unknown_value=-1).set_output(transform=\"pandas\")"
   ]
  },
  {
   "cell_type": "markdown",
   "id": "2a33b3f5",
   "metadata": {},
   "source": [
    "#### Transforming the Train Data"
   ]
  },
  {
   "cell_type": "markdown",
   "id": "217f0214",
   "metadata": {},
   "source": [
    "##### Binary Data"
   ]
  },
  {
   "cell_type": "code",
   "execution_count": 38,
   "id": "c77a3edc",
   "metadata": {},
   "outputs": [
    {
     "data": {
      "text/html": [
       "<div>\n",
       "<style scoped>\n",
       "    .dataframe tbody tr th:only-of-type {\n",
       "        vertical-align: middle;\n",
       "    }\n",
       "\n",
       "    .dataframe tbody tr th {\n",
       "        vertical-align: top;\n",
       "    }\n",
       "\n",
       "    .dataframe thead th {\n",
       "        text-align: right;\n",
       "    }\n",
       "</style>\n",
       "<table border=\"1\" class=\"dataframe\">\n",
       "  <thead>\n",
       "    <tr style=\"text-align: right;\">\n",
       "      <th></th>\n",
       "      <th>Holiday</th>\n",
       "      <th>HVACUsage</th>\n",
       "      <th>LightingUsage</th>\n",
       "    </tr>\n",
       "  </thead>\n",
       "  <tbody>\n",
       "    <tr>\n",
       "      <th>431</th>\n",
       "      <td>0</td>\n",
       "      <td>1</td>\n",
       "      <td>0</td>\n",
       "    </tr>\n",
       "    <tr>\n",
       "      <th>329</th>\n",
       "      <td>0</td>\n",
       "      <td>0</td>\n",
       "      <td>1</td>\n",
       "    </tr>\n",
       "    <tr>\n",
       "      <th>1051</th>\n",
       "      <td>1</td>\n",
       "      <td>1</td>\n",
       "      <td>1</td>\n",
       "    </tr>\n",
       "    <tr>\n",
       "      <th>22</th>\n",
       "      <td>0</td>\n",
       "      <td>1</td>\n",
       "      <td>1</td>\n",
       "    </tr>\n",
       "    <tr>\n",
       "      <th>1222</th>\n",
       "      <td>0</td>\n",
       "      <td>0</td>\n",
       "      <td>0</td>\n",
       "    </tr>\n",
       "  </tbody>\n",
       "</table>\n",
       "</div>"
      ],
      "text/plain": [
       "      Holiday  HVACUsage  LightingUsage\n",
       "431         0          1              0\n",
       "329         0          0              1\n",
       "1051        1          1              1\n",
       "22          0          1              1\n",
       "1222        0          0              0"
      ]
     },
     "execution_count": 38,
     "metadata": {},
     "output_type": "execute_result"
    }
   ],
   "source": [
    "bin_data = pd.concat([train_x[binary_cols_1].apply(bin_enc_1.fit_transform), train_x[binary_cols_2].apply(bin_enc_2.fit_transform)], axis=1)\n",
    "bin_data.head()"
   ]
  },
  {
   "cell_type": "markdown",
   "id": "958ac133",
   "metadata": {},
   "source": [
    "##### Nominal Data"
   ]
  },
  {
   "cell_type": "code",
   "execution_count": 39,
   "id": "862596e2",
   "metadata": {},
   "outputs": [
    {
     "data": {
      "text/html": [
       "<div>\n",
       "<style scoped>\n",
       "    .dataframe tbody tr th:only-of-type {\n",
       "        vertical-align: middle;\n",
       "    }\n",
       "\n",
       "    .dataframe tbody tr th {\n",
       "        vertical-align: top;\n",
       "    }\n",
       "\n",
       "    .dataframe thead th {\n",
       "        text-align: right;\n",
       "    }\n",
       "</style>\n",
       "<table border=\"1\" class=\"dataframe\">\n",
       "  <thead>\n",
       "    <tr style=\"text-align: right;\">\n",
       "      <th></th>\n",
       "      <th>DayOfWeek_Friday</th>\n",
       "      <th>DayOfWeek_Monday</th>\n",
       "      <th>DayOfWeek_Saturday</th>\n",
       "      <th>DayOfWeek_Sunday</th>\n",
       "      <th>DayOfWeek_Thursday</th>\n",
       "      <th>DayOfWeek_Tuesday</th>\n",
       "      <th>DayOfWeek_Wednesday</th>\n",
       "    </tr>\n",
       "  </thead>\n",
       "  <tbody>\n",
       "    <tr>\n",
       "      <th>431</th>\n",
       "      <td>0.0</td>\n",
       "      <td>0.0</td>\n",
       "      <td>0.0</td>\n",
       "      <td>0.0</td>\n",
       "      <td>0.0</td>\n",
       "      <td>0.0</td>\n",
       "      <td>1.0</td>\n",
       "    </tr>\n",
       "    <tr>\n",
       "      <th>329</th>\n",
       "      <td>1.0</td>\n",
       "      <td>0.0</td>\n",
       "      <td>0.0</td>\n",
       "      <td>0.0</td>\n",
       "      <td>0.0</td>\n",
       "      <td>0.0</td>\n",
       "      <td>0.0</td>\n",
       "    </tr>\n",
       "    <tr>\n",
       "      <th>1051</th>\n",
       "      <td>0.0</td>\n",
       "      <td>0.0</td>\n",
       "      <td>0.0</td>\n",
       "      <td>0.0</td>\n",
       "      <td>0.0</td>\n",
       "      <td>1.0</td>\n",
       "      <td>0.0</td>\n",
       "    </tr>\n",
       "    <tr>\n",
       "      <th>22</th>\n",
       "      <td>0.0</td>\n",
       "      <td>1.0</td>\n",
       "      <td>0.0</td>\n",
       "      <td>0.0</td>\n",
       "      <td>0.0</td>\n",
       "      <td>0.0</td>\n",
       "      <td>0.0</td>\n",
       "    </tr>\n",
       "    <tr>\n",
       "      <th>1222</th>\n",
       "      <td>0.0</td>\n",
       "      <td>0.0</td>\n",
       "      <td>0.0</td>\n",
       "      <td>1.0</td>\n",
       "      <td>0.0</td>\n",
       "      <td>0.0</td>\n",
       "      <td>0.0</td>\n",
       "    </tr>\n",
       "  </tbody>\n",
       "</table>\n",
       "</div>"
      ],
      "text/plain": [
       "      DayOfWeek_Friday  DayOfWeek_Monday  DayOfWeek_Saturday  \\\n",
       "431                0.0               0.0                 0.0   \n",
       "329                1.0               0.0                 0.0   \n",
       "1051               0.0               0.0                 0.0   \n",
       "22                 0.0               1.0                 0.0   \n",
       "1222               0.0               0.0                 0.0   \n",
       "\n",
       "      DayOfWeek_Sunday  DayOfWeek_Thursday  DayOfWeek_Tuesday  \\\n",
       "431                0.0                 0.0                0.0   \n",
       "329                0.0                 0.0                0.0   \n",
       "1051               0.0                 0.0                1.0   \n",
       "22                 0.0                 0.0                0.0   \n",
       "1222               1.0                 0.0                0.0   \n",
       "\n",
       "      DayOfWeek_Wednesday  \n",
       "431                   1.0  \n",
       "329                   0.0  \n",
       "1051                  0.0  \n",
       "22                    0.0  \n",
       "1222                  0.0  "
      ]
     },
     "execution_count": 39,
     "metadata": {},
     "output_type": "execute_result"
    }
   ],
   "source": [
    "nominal_data = ohe.fit_transform(train_x[nominal_cols])\n",
    "nominal_data.head()"
   ]
  },
  {
   "cell_type": "markdown",
   "id": "12a96ece",
   "metadata": {},
   "source": [
    "##### Ordinal Data"
   ]
  },
  {
   "cell_type": "code",
   "execution_count": 40,
   "id": "a091be5b",
   "metadata": {},
   "outputs": [
    {
     "data": {
      "text/html": [
       "<div>\n",
       "<style scoped>\n",
       "    .dataframe tbody tr th:only-of-type {\n",
       "        vertical-align: middle;\n",
       "    }\n",
       "\n",
       "    .dataframe tbody tr th {\n",
       "        vertical-align: top;\n",
       "    }\n",
       "\n",
       "    .dataframe thead th {\n",
       "        text-align: right;\n",
       "    }\n",
       "</style>\n",
       "<table border=\"1\" class=\"dataframe\">\n",
       "  <thead>\n",
       "    <tr style=\"text-align: right;\">\n",
       "      <th></th>\n",
       "      <th>Month</th>\n",
       "    </tr>\n",
       "  </thead>\n",
       "  <tbody>\n",
       "    <tr>\n",
       "      <th>431</th>\n",
       "      <td>4.0</td>\n",
       "    </tr>\n",
       "    <tr>\n",
       "      <th>329</th>\n",
       "      <td>7.0</td>\n",
       "    </tr>\n",
       "    <tr>\n",
       "      <th>1051</th>\n",
       "      <td>9.0</td>\n",
       "    </tr>\n",
       "    <tr>\n",
       "      <th>22</th>\n",
       "      <td>10.0</td>\n",
       "    </tr>\n",
       "    <tr>\n",
       "      <th>1222</th>\n",
       "      <td>0.0</td>\n",
       "    </tr>\n",
       "  </tbody>\n",
       "</table>\n",
       "</div>"
      ],
      "text/plain": [
       "      Month\n",
       "431     4.0\n",
       "329     7.0\n",
       "1051    9.0\n",
       "22     10.0\n",
       "1222    0.0"
      ]
     },
     "execution_count": 40,
     "metadata": {},
     "output_type": "execute_result"
    }
   ],
   "source": [
    "ordinal_data = ordinal_enc.fit_transform(train_x[ordinal_cols])\n",
    "ordinal_data.head()"
   ]
  },
  {
   "cell_type": "markdown",
   "id": "5f6e7e2c",
   "metadata": {},
   "source": [
    "##### Reunite the dataset"
   ]
  },
  {
   "cell_type": "code",
   "execution_count": 41,
   "id": "b42d73b6",
   "metadata": {},
   "outputs": [
    {
     "data": {
      "text/html": [
       "<div>\n",
       "<style scoped>\n",
       "    .dataframe tbody tr th:only-of-type {\n",
       "        vertical-align: middle;\n",
       "    }\n",
       "\n",
       "    .dataframe tbody tr th {\n",
       "        vertical-align: top;\n",
       "    }\n",
       "\n",
       "    .dataframe thead th {\n",
       "        text-align: right;\n",
       "    }\n",
       "</style>\n",
       "<table border=\"1\" class=\"dataframe\">\n",
       "  <thead>\n",
       "    <tr style=\"text-align: right;\">\n",
       "      <th></th>\n",
       "      <th>Hour</th>\n",
       "      <th>Temperature</th>\n",
       "      <th>Humidity</th>\n",
       "      <th>SquareFootage</th>\n",
       "      <th>Occupancy</th>\n",
       "      <th>RenewableEnergy</th>\n",
       "      <th>Holiday</th>\n",
       "      <th>HVACUsage</th>\n",
       "      <th>LightingUsage</th>\n",
       "      <th>DayOfWeek_Friday</th>\n",
       "      <th>DayOfWeek_Monday</th>\n",
       "      <th>DayOfWeek_Saturday</th>\n",
       "      <th>DayOfWeek_Sunday</th>\n",
       "      <th>DayOfWeek_Thursday</th>\n",
       "      <th>DayOfWeek_Tuesday</th>\n",
       "      <th>DayOfWeek_Wednesday</th>\n",
       "      <th>Month</th>\n",
       "    </tr>\n",
       "  </thead>\n",
       "  <tbody>\n",
       "    <tr>\n",
       "      <th>431</th>\n",
       "      <td>0.869565</td>\n",
       "      <td>0.635707</td>\n",
       "      <td>1.000000</td>\n",
       "      <td>1.000000</td>\n",
       "      <td>0.000000</td>\n",
       "      <td>0.004840</td>\n",
       "      <td>0</td>\n",
       "      <td>1</td>\n",
       "      <td>0</td>\n",
       "      <td>0.0</td>\n",
       "      <td>0.0</td>\n",
       "      <td>0.0</td>\n",
       "      <td>0.0</td>\n",
       "      <td>0.0</td>\n",
       "      <td>0.0</td>\n",
       "      <td>1.0</td>\n",
       "      <td>4.0</td>\n",
       "    </tr>\n",
       "    <tr>\n",
       "      <th>329</th>\n",
       "      <td>0.173913</td>\n",
       "      <td>0.987916</td>\n",
       "      <td>1.000000</td>\n",
       "      <td>0.154359</td>\n",
       "      <td>0.666667</td>\n",
       "      <td>0.881296</td>\n",
       "      <td>0</td>\n",
       "      <td>0</td>\n",
       "      <td>1</td>\n",
       "      <td>1.0</td>\n",
       "      <td>0.0</td>\n",
       "      <td>0.0</td>\n",
       "      <td>0.0</td>\n",
       "      <td>0.0</td>\n",
       "      <td>0.0</td>\n",
       "      <td>0.0</td>\n",
       "      <td>7.0</td>\n",
       "    </tr>\n",
       "    <tr>\n",
       "      <th>1051</th>\n",
       "      <td>0.000000</td>\n",
       "      <td>0.247066</td>\n",
       "      <td>0.385912</td>\n",
       "      <td>0.330254</td>\n",
       "      <td>0.222222</td>\n",
       "      <td>0.432479</td>\n",
       "      <td>1</td>\n",
       "      <td>1</td>\n",
       "      <td>1</td>\n",
       "      <td>0.0</td>\n",
       "      <td>0.0</td>\n",
       "      <td>0.0</td>\n",
       "      <td>0.0</td>\n",
       "      <td>0.0</td>\n",
       "      <td>1.0</td>\n",
       "      <td>0.0</td>\n",
       "      <td>9.0</td>\n",
       "    </tr>\n",
       "    <tr>\n",
       "      <th>22</th>\n",
       "      <td>0.000000</td>\n",
       "      <td>0.820101</td>\n",
       "      <td>0.694746</td>\n",
       "      <td>0.324268</td>\n",
       "      <td>0.333333</td>\n",
       "      <td>0.559751</td>\n",
       "      <td>0</td>\n",
       "      <td>1</td>\n",
       "      <td>1</td>\n",
       "      <td>0.0</td>\n",
       "      <td>1.0</td>\n",
       "      <td>0.0</td>\n",
       "      <td>0.0</td>\n",
       "      <td>0.0</td>\n",
       "      <td>0.0</td>\n",
       "      <td>0.0</td>\n",
       "      <td>10.0</td>\n",
       "    </tr>\n",
       "    <tr>\n",
       "      <th>1222</th>\n",
       "      <td>0.608696</td>\n",
       "      <td>0.682566</td>\n",
       "      <td>0.763241</td>\n",
       "      <td>0.262256</td>\n",
       "      <td>0.333333</td>\n",
       "      <td>0.803954</td>\n",
       "      <td>0</td>\n",
       "      <td>0</td>\n",
       "      <td>0</td>\n",
       "      <td>0.0</td>\n",
       "      <td>0.0</td>\n",
       "      <td>0.0</td>\n",
       "      <td>1.0</td>\n",
       "      <td>0.0</td>\n",
       "      <td>0.0</td>\n",
       "      <td>0.0</td>\n",
       "      <td>0.0</td>\n",
       "    </tr>\n",
       "  </tbody>\n",
       "</table>\n",
       "</div>"
      ],
      "text/plain": [
       "          Hour  Temperature  Humidity  SquareFootage  Occupancy  \\\n",
       "431   0.869565     0.635707  1.000000       1.000000   0.000000   \n",
       "329   0.173913     0.987916  1.000000       0.154359   0.666667   \n",
       "1051  0.000000     0.247066  0.385912       0.330254   0.222222   \n",
       "22    0.000000     0.820101  0.694746       0.324268   0.333333   \n",
       "1222  0.608696     0.682566  0.763241       0.262256   0.333333   \n",
       "\n",
       "      RenewableEnergy  Holiday  HVACUsage  LightingUsage  DayOfWeek_Friday  \\\n",
       "431          0.004840        0          1              0               0.0   \n",
       "329          0.881296        0          0              1               1.0   \n",
       "1051         0.432479        1          1              1               0.0   \n",
       "22           0.559751        0          1              1               0.0   \n",
       "1222         0.803954        0          0              0               0.0   \n",
       "\n",
       "      DayOfWeek_Monday  DayOfWeek_Saturday  DayOfWeek_Sunday  \\\n",
       "431                0.0                 0.0               0.0   \n",
       "329                0.0                 0.0               0.0   \n",
       "1051               0.0                 0.0               0.0   \n",
       "22                 1.0                 0.0               0.0   \n",
       "1222               0.0                 0.0               1.0   \n",
       "\n",
       "      DayOfWeek_Thursday  DayOfWeek_Tuesday  DayOfWeek_Wednesday  Month  \n",
       "431                  0.0                0.0                  1.0    4.0  \n",
       "329                  0.0                0.0                  0.0    7.0  \n",
       "1051                 0.0                1.0                  0.0    9.0  \n",
       "22                   0.0                0.0                  0.0   10.0  \n",
       "1222                 0.0                0.0                  0.0    0.0  "
      ]
     },
     "execution_count": 41,
     "metadata": {},
     "output_type": "execute_result"
    }
   ],
   "source": [
    "train_x = pd.concat([train_x.drop(columns=binary_cols_1 + binary_cols_2 + nominal_cols + ordinal_cols), bin_data, nominal_data, ordinal_data], axis=1)\n",
    "train_x.head()"
   ]
  },
  {
   "cell_type": "markdown",
   "id": "f845e2fd",
   "metadata": {},
   "source": [
    "#### Transforming the Validation Data"
   ]
  },
  {
   "cell_type": "markdown",
   "id": "e140a328",
   "metadata": {},
   "source": [
    "##### Binary Data"
   ]
  },
  {
   "cell_type": "code",
   "execution_count": 42,
   "id": "b7604458",
   "metadata": {},
   "outputs": [
    {
     "data": {
      "text/html": [
       "<div>\n",
       "<style scoped>\n",
       "    .dataframe tbody tr th:only-of-type {\n",
       "        vertical-align: middle;\n",
       "    }\n",
       "\n",
       "    .dataframe tbody tr th {\n",
       "        vertical-align: top;\n",
       "    }\n",
       "\n",
       "    .dataframe thead th {\n",
       "        text-align: right;\n",
       "    }\n",
       "</style>\n",
       "<table border=\"1\" class=\"dataframe\">\n",
       "  <thead>\n",
       "    <tr style=\"text-align: right;\">\n",
       "      <th></th>\n",
       "      <th>Holiday</th>\n",
       "      <th>HVACUsage</th>\n",
       "      <th>LightingUsage</th>\n",
       "    </tr>\n",
       "  </thead>\n",
       "  <tbody>\n",
       "    <tr>\n",
       "      <th>186</th>\n",
       "      <td>1</td>\n",
       "      <td>0</td>\n",
       "      <td>0</td>\n",
       "    </tr>\n",
       "    <tr>\n",
       "      <th>928</th>\n",
       "      <td>0</td>\n",
       "      <td>1</td>\n",
       "      <td>1</td>\n",
       "    </tr>\n",
       "    <tr>\n",
       "      <th>863</th>\n",
       "      <td>1</td>\n",
       "      <td>0</td>\n",
       "      <td>0</td>\n",
       "    </tr>\n",
       "    <tr>\n",
       "      <th>167</th>\n",
       "      <td>1</td>\n",
       "      <td>0</td>\n",
       "      <td>0</td>\n",
       "    </tr>\n",
       "    <tr>\n",
       "      <th>136</th>\n",
       "      <td>1</td>\n",
       "      <td>1</td>\n",
       "      <td>1</td>\n",
       "    </tr>\n",
       "  </tbody>\n",
       "</table>\n",
       "</div>"
      ],
      "text/plain": [
       "     Holiday  HVACUsage  LightingUsage\n",
       "186        1          0              0\n",
       "928        0          1              1\n",
       "863        1          0              0\n",
       "167        1          0              0\n",
       "136        1          1              1"
      ]
     },
     "execution_count": 42,
     "metadata": {},
     "output_type": "execute_result"
    }
   ],
   "source": [
    "bin_data = pd.concat([val_x[binary_cols_1].apply(bin_enc_1.transform), val_x[binary_cols_2].apply(bin_enc_2.transform)], axis=1)\n",
    "bin_data.head()"
   ]
  },
  {
   "cell_type": "markdown",
   "id": "9e5c5669",
   "metadata": {},
   "source": [
    "##### Nominal Data"
   ]
  },
  {
   "cell_type": "code",
   "execution_count": 43,
   "id": "5fc6d86e",
   "metadata": {},
   "outputs": [
    {
     "data": {
      "text/html": [
       "<div>\n",
       "<style scoped>\n",
       "    .dataframe tbody tr th:only-of-type {\n",
       "        vertical-align: middle;\n",
       "    }\n",
       "\n",
       "    .dataframe tbody tr th {\n",
       "        vertical-align: top;\n",
       "    }\n",
       "\n",
       "    .dataframe thead th {\n",
       "        text-align: right;\n",
       "    }\n",
       "</style>\n",
       "<table border=\"1\" class=\"dataframe\">\n",
       "  <thead>\n",
       "    <tr style=\"text-align: right;\">\n",
       "      <th></th>\n",
       "      <th>DayOfWeek_Friday</th>\n",
       "      <th>DayOfWeek_Monday</th>\n",
       "      <th>DayOfWeek_Saturday</th>\n",
       "      <th>DayOfWeek_Sunday</th>\n",
       "      <th>DayOfWeek_Thursday</th>\n",
       "      <th>DayOfWeek_Tuesday</th>\n",
       "      <th>DayOfWeek_Wednesday</th>\n",
       "    </tr>\n",
       "  </thead>\n",
       "  <tbody>\n",
       "    <tr>\n",
       "      <th>186</th>\n",
       "      <td>0.0</td>\n",
       "      <td>0.0</td>\n",
       "      <td>1.0</td>\n",
       "      <td>0.0</td>\n",
       "      <td>0.0</td>\n",
       "      <td>0.0</td>\n",
       "      <td>0.0</td>\n",
       "    </tr>\n",
       "    <tr>\n",
       "      <th>928</th>\n",
       "      <td>0.0</td>\n",
       "      <td>0.0</td>\n",
       "      <td>0.0</td>\n",
       "      <td>0.0</td>\n",
       "      <td>1.0</td>\n",
       "      <td>0.0</td>\n",
       "      <td>0.0</td>\n",
       "    </tr>\n",
       "    <tr>\n",
       "      <th>863</th>\n",
       "      <td>0.0</td>\n",
       "      <td>1.0</td>\n",
       "      <td>0.0</td>\n",
       "      <td>0.0</td>\n",
       "      <td>0.0</td>\n",
       "      <td>0.0</td>\n",
       "      <td>0.0</td>\n",
       "    </tr>\n",
       "    <tr>\n",
       "      <th>167</th>\n",
       "      <td>0.0</td>\n",
       "      <td>0.0</td>\n",
       "      <td>1.0</td>\n",
       "      <td>0.0</td>\n",
       "      <td>0.0</td>\n",
       "      <td>0.0</td>\n",
       "      <td>0.0</td>\n",
       "    </tr>\n",
       "    <tr>\n",
       "      <th>136</th>\n",
       "      <td>0.0</td>\n",
       "      <td>0.0</td>\n",
       "      <td>0.0</td>\n",
       "      <td>0.0</td>\n",
       "      <td>1.0</td>\n",
       "      <td>0.0</td>\n",
       "      <td>0.0</td>\n",
       "    </tr>\n",
       "  </tbody>\n",
       "</table>\n",
       "</div>"
      ],
      "text/plain": [
       "     DayOfWeek_Friday  DayOfWeek_Monday  DayOfWeek_Saturday  DayOfWeek_Sunday  \\\n",
       "186               0.0               0.0                 1.0               0.0   \n",
       "928               0.0               0.0                 0.0               0.0   \n",
       "863               0.0               1.0                 0.0               0.0   \n",
       "167               0.0               0.0                 1.0               0.0   \n",
       "136               0.0               0.0                 0.0               0.0   \n",
       "\n",
       "     DayOfWeek_Thursday  DayOfWeek_Tuesday  DayOfWeek_Wednesday  \n",
       "186                 0.0                0.0                  0.0  \n",
       "928                 1.0                0.0                  0.0  \n",
       "863                 0.0                0.0                  0.0  \n",
       "167                 0.0                0.0                  0.0  \n",
       "136                 1.0                0.0                  0.0  "
      ]
     },
     "execution_count": 43,
     "metadata": {},
     "output_type": "execute_result"
    }
   ],
   "source": [
    "nominal_data = ohe.transform(val_x[nominal_cols])\n",
    "nominal_data.head()"
   ]
  },
  {
   "cell_type": "markdown",
   "id": "8a2f4906",
   "metadata": {},
   "source": [
    "##### Ordinal Data"
   ]
  },
  {
   "cell_type": "code",
   "execution_count": 44,
   "id": "02a450a3",
   "metadata": {},
   "outputs": [
    {
     "data": {
      "text/html": [
       "<div>\n",
       "<style scoped>\n",
       "    .dataframe tbody tr th:only-of-type {\n",
       "        vertical-align: middle;\n",
       "    }\n",
       "\n",
       "    .dataframe tbody tr th {\n",
       "        vertical-align: top;\n",
       "    }\n",
       "\n",
       "    .dataframe thead th {\n",
       "        text-align: right;\n",
       "    }\n",
       "</style>\n",
       "<table border=\"1\" class=\"dataframe\">\n",
       "  <thead>\n",
       "    <tr style=\"text-align: right;\">\n",
       "      <th></th>\n",
       "      <th>Month</th>\n",
       "    </tr>\n",
       "  </thead>\n",
       "  <tbody>\n",
       "    <tr>\n",
       "      <th>186</th>\n",
       "      <td>3.0</td>\n",
       "    </tr>\n",
       "    <tr>\n",
       "      <th>928</th>\n",
       "      <td>0.0</td>\n",
       "    </tr>\n",
       "    <tr>\n",
       "      <th>863</th>\n",
       "      <td>3.0</td>\n",
       "    </tr>\n",
       "    <tr>\n",
       "      <th>167</th>\n",
       "      <td>7.0</td>\n",
       "    </tr>\n",
       "    <tr>\n",
       "      <th>136</th>\n",
       "      <td>11.0</td>\n",
       "    </tr>\n",
       "  </tbody>\n",
       "</table>\n",
       "</div>"
      ],
      "text/plain": [
       "     Month\n",
       "186    3.0\n",
       "928    0.0\n",
       "863    3.0\n",
       "167    7.0\n",
       "136   11.0"
      ]
     },
     "execution_count": 44,
     "metadata": {},
     "output_type": "execute_result"
    }
   ],
   "source": [
    "ordinal_data = ordinal_enc.transform(val_x[ordinal_cols])\n",
    "ordinal_data.head()"
   ]
  },
  {
   "cell_type": "markdown",
   "id": "08071408",
   "metadata": {},
   "source": [
    "##### Reunite the dataset"
   ]
  },
  {
   "cell_type": "code",
   "execution_count": 45,
   "id": "be2af455",
   "metadata": {},
   "outputs": [
    {
     "data": {
      "text/html": [
       "<div>\n",
       "<style scoped>\n",
       "    .dataframe tbody tr th:only-of-type {\n",
       "        vertical-align: middle;\n",
       "    }\n",
       "\n",
       "    .dataframe tbody tr th {\n",
       "        vertical-align: top;\n",
       "    }\n",
       "\n",
       "    .dataframe thead th {\n",
       "        text-align: right;\n",
       "    }\n",
       "</style>\n",
       "<table border=\"1\" class=\"dataframe\">\n",
       "  <thead>\n",
       "    <tr style=\"text-align: right;\">\n",
       "      <th></th>\n",
       "      <th>Hour</th>\n",
       "      <th>Temperature</th>\n",
       "      <th>Humidity</th>\n",
       "      <th>SquareFootage</th>\n",
       "      <th>Occupancy</th>\n",
       "      <th>RenewableEnergy</th>\n",
       "      <th>Holiday</th>\n",
       "      <th>HVACUsage</th>\n",
       "      <th>LightingUsage</th>\n",
       "      <th>DayOfWeek_Friday</th>\n",
       "      <th>DayOfWeek_Monday</th>\n",
       "      <th>DayOfWeek_Saturday</th>\n",
       "      <th>DayOfWeek_Sunday</th>\n",
       "      <th>DayOfWeek_Thursday</th>\n",
       "      <th>DayOfWeek_Tuesday</th>\n",
       "      <th>DayOfWeek_Wednesday</th>\n",
       "      <th>Month</th>\n",
       "    </tr>\n",
       "  </thead>\n",
       "  <tbody>\n",
       "    <tr>\n",
       "      <th>186</th>\n",
       "      <td>0.173913</td>\n",
       "      <td>0.677827</td>\n",
       "      <td>0.922215</td>\n",
       "      <td>0.000000</td>\n",
       "      <td>0.333333</td>\n",
       "      <td>0.423396</td>\n",
       "      <td>1</td>\n",
       "      <td>0</td>\n",
       "      <td>0</td>\n",
       "      <td>0.0</td>\n",
       "      <td>0.0</td>\n",
       "      <td>1.0</td>\n",
       "      <td>0.0</td>\n",
       "      <td>0.0</td>\n",
       "      <td>0.0</td>\n",
       "      <td>0.0</td>\n",
       "      <td>3.0</td>\n",
       "    </tr>\n",
       "    <tr>\n",
       "      <th>928</th>\n",
       "      <td>0.173913</td>\n",
       "      <td>0.203936</td>\n",
       "      <td>0.110449</td>\n",
       "      <td>0.734958</td>\n",
       "      <td>0.000000</td>\n",
       "      <td>0.493151</td>\n",
       "      <td>0</td>\n",
       "      <td>1</td>\n",
       "      <td>1</td>\n",
       "      <td>0.0</td>\n",
       "      <td>0.0</td>\n",
       "      <td>0.0</td>\n",
       "      <td>0.0</td>\n",
       "      <td>1.0</td>\n",
       "      <td>0.0</td>\n",
       "      <td>0.0</td>\n",
       "      <td>0.0</td>\n",
       "    </tr>\n",
       "    <tr>\n",
       "      <th>863</th>\n",
       "      <td>0.869565</td>\n",
       "      <td>0.877667</td>\n",
       "      <td>0.509860</td>\n",
       "      <td>0.546393</td>\n",
       "      <td>0.222222</td>\n",
       "      <td>0.266117</td>\n",
       "      <td>1</td>\n",
       "      <td>0</td>\n",
       "      <td>0</td>\n",
       "      <td>0.0</td>\n",
       "      <td>1.0</td>\n",
       "      <td>0.0</td>\n",
       "      <td>0.0</td>\n",
       "      <td>0.0</td>\n",
       "      <td>0.0</td>\n",
       "      <td>0.0</td>\n",
       "      <td>3.0</td>\n",
       "    </tr>\n",
       "    <tr>\n",
       "      <th>167</th>\n",
       "      <td>0.782609</td>\n",
       "      <td>0.570794</td>\n",
       "      <td>0.228420</td>\n",
       "      <td>0.899237</td>\n",
       "      <td>0.444444</td>\n",
       "      <td>0.306755</td>\n",
       "      <td>1</td>\n",
       "      <td>0</td>\n",
       "      <td>0</td>\n",
       "      <td>0.0</td>\n",
       "      <td>0.0</td>\n",
       "      <td>1.0</td>\n",
       "      <td>0.0</td>\n",
       "      <td>0.0</td>\n",
       "      <td>0.0</td>\n",
       "      <td>0.0</td>\n",
       "      <td>7.0</td>\n",
       "    </tr>\n",
       "    <tr>\n",
       "      <th>136</th>\n",
       "      <td>0.565217</td>\n",
       "      <td>0.593852</td>\n",
       "      <td>1.000000</td>\n",
       "      <td>0.792945</td>\n",
       "      <td>0.444444</td>\n",
       "      <td>0.288517</td>\n",
       "      <td>1</td>\n",
       "      <td>1</td>\n",
       "      <td>1</td>\n",
       "      <td>0.0</td>\n",
       "      <td>0.0</td>\n",
       "      <td>0.0</td>\n",
       "      <td>0.0</td>\n",
       "      <td>1.0</td>\n",
       "      <td>0.0</td>\n",
       "      <td>0.0</td>\n",
       "      <td>11.0</td>\n",
       "    </tr>\n",
       "  </tbody>\n",
       "</table>\n",
       "</div>"
      ],
      "text/plain": [
       "         Hour  Temperature  Humidity  SquareFootage  Occupancy  \\\n",
       "186  0.173913     0.677827  0.922215       0.000000   0.333333   \n",
       "928  0.173913     0.203936  0.110449       0.734958   0.000000   \n",
       "863  0.869565     0.877667  0.509860       0.546393   0.222222   \n",
       "167  0.782609     0.570794  0.228420       0.899237   0.444444   \n",
       "136  0.565217     0.593852  1.000000       0.792945   0.444444   \n",
       "\n",
       "     RenewableEnergy  Holiday  HVACUsage  LightingUsage  DayOfWeek_Friday  \\\n",
       "186         0.423396        1          0              0               0.0   \n",
       "928         0.493151        0          1              1               0.0   \n",
       "863         0.266117        1          0              0               0.0   \n",
       "167         0.306755        1          0              0               0.0   \n",
       "136         0.288517        1          1              1               0.0   \n",
       "\n",
       "     DayOfWeek_Monday  DayOfWeek_Saturday  DayOfWeek_Sunday  \\\n",
       "186               0.0                 1.0               0.0   \n",
       "928               0.0                 0.0               0.0   \n",
       "863               1.0                 0.0               0.0   \n",
       "167               0.0                 1.0               0.0   \n",
       "136               0.0                 0.0               0.0   \n",
       "\n",
       "     DayOfWeek_Thursday  DayOfWeek_Tuesday  DayOfWeek_Wednesday  Month  \n",
       "186                 0.0                0.0                  0.0    3.0  \n",
       "928                 1.0                0.0                  0.0    0.0  \n",
       "863                 0.0                0.0                  0.0    3.0  \n",
       "167                 0.0                0.0                  0.0    7.0  \n",
       "136                 1.0                0.0                  0.0   11.0  "
      ]
     },
     "execution_count": 45,
     "metadata": {},
     "output_type": "execute_result"
    }
   ],
   "source": [
    "val_x = pd.concat([val_x.drop(columns=binary_cols_1 + binary_cols_2 + nominal_cols + ordinal_cols), bin_data, nominal_data, ordinal_data], axis=1)\n",
    "val_x.head()"
   ]
  },
  {
   "cell_type": "markdown",
   "id": "9cc9e3d1",
   "metadata": {},
   "source": [
    "#### Transforming the Test Data"
   ]
  },
  {
   "cell_type": "markdown",
   "id": "65f81ff2",
   "metadata": {},
   "source": [
    "##### Binary Data"
   ]
  },
  {
   "cell_type": "code",
   "execution_count": 46,
   "id": "e542c5d0",
   "metadata": {},
   "outputs": [
    {
     "data": {
      "text/html": [
       "<div>\n",
       "<style scoped>\n",
       "    .dataframe tbody tr th:only-of-type {\n",
       "        vertical-align: middle;\n",
       "    }\n",
       "\n",
       "    .dataframe tbody tr th {\n",
       "        vertical-align: top;\n",
       "    }\n",
       "\n",
       "    .dataframe thead th {\n",
       "        text-align: right;\n",
       "    }\n",
       "</style>\n",
       "<table border=\"1\" class=\"dataframe\">\n",
       "  <thead>\n",
       "    <tr style=\"text-align: right;\">\n",
       "      <th></th>\n",
       "      <th>Holiday</th>\n",
       "      <th>HVACUsage</th>\n",
       "      <th>LightingUsage</th>\n",
       "    </tr>\n",
       "  </thead>\n",
       "  <tbody>\n",
       "    <tr>\n",
       "      <th>710</th>\n",
       "      <td>0</td>\n",
       "      <td>0</td>\n",
       "      <td>1</td>\n",
       "    </tr>\n",
       "    <tr>\n",
       "      <th>486</th>\n",
       "      <td>1</td>\n",
       "      <td>0</td>\n",
       "      <td>0</td>\n",
       "    </tr>\n",
       "    <tr>\n",
       "      <th>244</th>\n",
       "      <td>1</td>\n",
       "      <td>0</td>\n",
       "      <td>0</td>\n",
       "    </tr>\n",
       "    <tr>\n",
       "      <th>551</th>\n",
       "      <td>1</td>\n",
       "      <td>0</td>\n",
       "      <td>0</td>\n",
       "    </tr>\n",
       "    <tr>\n",
       "      <th>1162</th>\n",
       "      <td>1</td>\n",
       "      <td>1</td>\n",
       "      <td>0</td>\n",
       "    </tr>\n",
       "  </tbody>\n",
       "</table>\n",
       "</div>"
      ],
      "text/plain": [
       "      Holiday  HVACUsage  LightingUsage\n",
       "710         0          0              1\n",
       "486         1          0              0\n",
       "244         1          0              0\n",
       "551         1          0              0\n",
       "1162        1          1              0"
      ]
     },
     "execution_count": 46,
     "metadata": {},
     "output_type": "execute_result"
    }
   ],
   "source": [
    "bin_data = pd.concat([test_x[binary_cols_1].apply(bin_enc_1.transform), test_x[binary_cols_2].apply(bin_enc_2.transform)], axis=1)\n",
    "bin_data.head()"
   ]
  },
  {
   "cell_type": "markdown",
   "id": "2f2fb33d",
   "metadata": {},
   "source": [
    "##### Nominal Data"
   ]
  },
  {
   "cell_type": "code",
   "execution_count": 47,
   "id": "7d84562a",
   "metadata": {},
   "outputs": [
    {
     "data": {
      "text/html": [
       "<div>\n",
       "<style scoped>\n",
       "    .dataframe tbody tr th:only-of-type {\n",
       "        vertical-align: middle;\n",
       "    }\n",
       "\n",
       "    .dataframe tbody tr th {\n",
       "        vertical-align: top;\n",
       "    }\n",
       "\n",
       "    .dataframe thead th {\n",
       "        text-align: right;\n",
       "    }\n",
       "</style>\n",
       "<table border=\"1\" class=\"dataframe\">\n",
       "  <thead>\n",
       "    <tr style=\"text-align: right;\">\n",
       "      <th></th>\n",
       "      <th>DayOfWeek_Friday</th>\n",
       "      <th>DayOfWeek_Monday</th>\n",
       "      <th>DayOfWeek_Saturday</th>\n",
       "      <th>DayOfWeek_Sunday</th>\n",
       "      <th>DayOfWeek_Thursday</th>\n",
       "      <th>DayOfWeek_Tuesday</th>\n",
       "      <th>DayOfWeek_Wednesday</th>\n",
       "    </tr>\n",
       "  </thead>\n",
       "  <tbody>\n",
       "    <tr>\n",
       "      <th>710</th>\n",
       "      <td>0.0</td>\n",
       "      <td>1.0</td>\n",
       "      <td>0.0</td>\n",
       "      <td>0.0</td>\n",
       "      <td>0.0</td>\n",
       "      <td>0.0</td>\n",
       "      <td>0.0</td>\n",
       "    </tr>\n",
       "    <tr>\n",
       "      <th>486</th>\n",
       "      <td>0.0</td>\n",
       "      <td>0.0</td>\n",
       "      <td>0.0</td>\n",
       "      <td>0.0</td>\n",
       "      <td>0.0</td>\n",
       "      <td>1.0</td>\n",
       "      <td>0.0</td>\n",
       "    </tr>\n",
       "    <tr>\n",
       "      <th>244</th>\n",
       "      <td>0.0</td>\n",
       "      <td>0.0</td>\n",
       "      <td>0.0</td>\n",
       "      <td>0.0</td>\n",
       "      <td>1.0</td>\n",
       "      <td>0.0</td>\n",
       "      <td>0.0</td>\n",
       "    </tr>\n",
       "    <tr>\n",
       "      <th>551</th>\n",
       "      <td>0.0</td>\n",
       "      <td>0.0</td>\n",
       "      <td>0.0</td>\n",
       "      <td>0.0</td>\n",
       "      <td>0.0</td>\n",
       "      <td>1.0</td>\n",
       "      <td>0.0</td>\n",
       "    </tr>\n",
       "    <tr>\n",
       "      <th>1162</th>\n",
       "      <td>0.0</td>\n",
       "      <td>0.0</td>\n",
       "      <td>0.0</td>\n",
       "      <td>0.0</td>\n",
       "      <td>0.0</td>\n",
       "      <td>1.0</td>\n",
       "      <td>0.0</td>\n",
       "    </tr>\n",
       "  </tbody>\n",
       "</table>\n",
       "</div>"
      ],
      "text/plain": [
       "      DayOfWeek_Friday  DayOfWeek_Monday  DayOfWeek_Saturday  \\\n",
       "710                0.0               1.0                 0.0   \n",
       "486                0.0               0.0                 0.0   \n",
       "244                0.0               0.0                 0.0   \n",
       "551                0.0               0.0                 0.0   \n",
       "1162               0.0               0.0                 0.0   \n",
       "\n",
       "      DayOfWeek_Sunday  DayOfWeek_Thursday  DayOfWeek_Tuesday  \\\n",
       "710                0.0                 0.0                0.0   \n",
       "486                0.0                 0.0                1.0   \n",
       "244                0.0                 1.0                0.0   \n",
       "551                0.0                 0.0                1.0   \n",
       "1162               0.0                 0.0                1.0   \n",
       "\n",
       "      DayOfWeek_Wednesday  \n",
       "710                   0.0  \n",
       "486                   0.0  \n",
       "244                   0.0  \n",
       "551                   0.0  \n",
       "1162                  0.0  "
      ]
     },
     "execution_count": 47,
     "metadata": {},
     "output_type": "execute_result"
    }
   ],
   "source": [
    "nominal_data = ohe.transform(test_x[nominal_cols])\n",
    "nominal_data.head()"
   ]
  },
  {
   "cell_type": "markdown",
   "id": "15e53e70",
   "metadata": {},
   "source": [
    "##### Ordinal Data"
   ]
  },
  {
   "cell_type": "code",
   "execution_count": 48,
   "id": "9ee00aba",
   "metadata": {},
   "outputs": [
    {
     "data": {
      "text/html": [
       "<div>\n",
       "<style scoped>\n",
       "    .dataframe tbody tr th:only-of-type {\n",
       "        vertical-align: middle;\n",
       "    }\n",
       "\n",
       "    .dataframe tbody tr th {\n",
       "        vertical-align: top;\n",
       "    }\n",
       "\n",
       "    .dataframe thead th {\n",
       "        text-align: right;\n",
       "    }\n",
       "</style>\n",
       "<table border=\"1\" class=\"dataframe\">\n",
       "  <thead>\n",
       "    <tr style=\"text-align: right;\">\n",
       "      <th></th>\n",
       "      <th>Month</th>\n",
       "    </tr>\n",
       "  </thead>\n",
       "  <tbody>\n",
       "    <tr>\n",
       "      <th>710</th>\n",
       "      <td>0.0</td>\n",
       "    </tr>\n",
       "    <tr>\n",
       "      <th>486</th>\n",
       "      <td>3.0</td>\n",
       "    </tr>\n",
       "    <tr>\n",
       "      <th>244</th>\n",
       "      <td>2.0</td>\n",
       "    </tr>\n",
       "    <tr>\n",
       "      <th>551</th>\n",
       "      <td>4.0</td>\n",
       "    </tr>\n",
       "    <tr>\n",
       "      <th>1162</th>\n",
       "      <td>9.0</td>\n",
       "    </tr>\n",
       "  </tbody>\n",
       "</table>\n",
       "</div>"
      ],
      "text/plain": [
       "      Month\n",
       "710     0.0\n",
       "486     3.0\n",
       "244     2.0\n",
       "551     4.0\n",
       "1162    9.0"
      ]
     },
     "execution_count": 48,
     "metadata": {},
     "output_type": "execute_result"
    }
   ],
   "source": [
    "ordinal_data = ordinal_enc.transform(test_x[ordinal_cols])\n",
    "ordinal_data.head()"
   ]
  },
  {
   "cell_type": "markdown",
   "id": "17ad86ff",
   "metadata": {},
   "source": [
    "##### Reunite the dataset"
   ]
  },
  {
   "cell_type": "code",
   "execution_count": 49,
   "id": "eae123df",
   "metadata": {},
   "outputs": [
    {
     "data": {
      "text/html": [
       "<div>\n",
       "<style scoped>\n",
       "    .dataframe tbody tr th:only-of-type {\n",
       "        vertical-align: middle;\n",
       "    }\n",
       "\n",
       "    .dataframe tbody tr th {\n",
       "        vertical-align: top;\n",
       "    }\n",
       "\n",
       "    .dataframe thead th {\n",
       "        text-align: right;\n",
       "    }\n",
       "</style>\n",
       "<table border=\"1\" class=\"dataframe\">\n",
       "  <thead>\n",
       "    <tr style=\"text-align: right;\">\n",
       "      <th></th>\n",
       "      <th>Hour</th>\n",
       "      <th>Temperature</th>\n",
       "      <th>Humidity</th>\n",
       "      <th>SquareFootage</th>\n",
       "      <th>Occupancy</th>\n",
       "      <th>RenewableEnergy</th>\n",
       "      <th>Holiday</th>\n",
       "      <th>HVACUsage</th>\n",
       "      <th>LightingUsage</th>\n",
       "      <th>DayOfWeek_Friday</th>\n",
       "      <th>DayOfWeek_Monday</th>\n",
       "      <th>DayOfWeek_Saturday</th>\n",
       "      <th>DayOfWeek_Sunday</th>\n",
       "      <th>DayOfWeek_Thursday</th>\n",
       "      <th>DayOfWeek_Tuesday</th>\n",
       "      <th>DayOfWeek_Wednesday</th>\n",
       "      <th>Month</th>\n",
       "    </tr>\n",
       "  </thead>\n",
       "  <tbody>\n",
       "    <tr>\n",
       "      <th>710</th>\n",
       "      <td>0.913043</td>\n",
       "      <td>0.072880</td>\n",
       "      <td>0.617320</td>\n",
       "      <td>0.836474</td>\n",
       "      <td>0.444444</td>\n",
       "      <td>0.310054</td>\n",
       "      <td>0</td>\n",
       "      <td>0</td>\n",
       "      <td>1</td>\n",
       "      <td>0.0</td>\n",
       "      <td>1.0</td>\n",
       "      <td>0.0</td>\n",
       "      <td>0.0</td>\n",
       "      <td>0.0</td>\n",
       "      <td>0.0</td>\n",
       "      <td>0.0</td>\n",
       "      <td>0.0</td>\n",
       "    </tr>\n",
       "    <tr>\n",
       "      <th>486</th>\n",
       "      <td>0.043478</td>\n",
       "      <td>0.583121</td>\n",
       "      <td>0.564254</td>\n",
       "      <td>0.896841</td>\n",
       "      <td>0.666667</td>\n",
       "      <td>0.546465</td>\n",
       "      <td>1</td>\n",
       "      <td>0</td>\n",
       "      <td>0</td>\n",
       "      <td>0.0</td>\n",
       "      <td>0.0</td>\n",
       "      <td>0.0</td>\n",
       "      <td>0.0</td>\n",
       "      <td>0.0</td>\n",
       "      <td>1.0</td>\n",
       "      <td>0.0</td>\n",
       "      <td>3.0</td>\n",
       "    </tr>\n",
       "    <tr>\n",
       "      <th>244</th>\n",
       "      <td>0.565217</td>\n",
       "      <td>0.509140</td>\n",
       "      <td>0.006289</td>\n",
       "      <td>0.815548</td>\n",
       "      <td>0.333333</td>\n",
       "      <td>0.949764</td>\n",
       "      <td>1</td>\n",
       "      <td>0</td>\n",
       "      <td>0</td>\n",
       "      <td>0.0</td>\n",
       "      <td>0.0</td>\n",
       "      <td>0.0</td>\n",
       "      <td>0.0</td>\n",
       "      <td>1.0</td>\n",
       "      <td>0.0</td>\n",
       "      <td>0.0</td>\n",
       "      <td>2.0</td>\n",
       "    </tr>\n",
       "    <tr>\n",
       "      <th>551</th>\n",
       "      <td>0.217391</td>\n",
       "      <td>0.479635</td>\n",
       "      <td>0.635156</td>\n",
       "      <td>0.559464</td>\n",
       "      <td>0.888889</td>\n",
       "      <td>0.770393</td>\n",
       "      <td>1</td>\n",
       "      <td>0</td>\n",
       "      <td>0</td>\n",
       "      <td>0.0</td>\n",
       "      <td>0.0</td>\n",
       "      <td>0.0</td>\n",
       "      <td>0.0</td>\n",
       "      <td>0.0</td>\n",
       "      <td>1.0</td>\n",
       "      <td>0.0</td>\n",
       "      <td>4.0</td>\n",
       "    </tr>\n",
       "    <tr>\n",
       "      <th>1162</th>\n",
       "      <td>0.565217</td>\n",
       "      <td>0.567467</td>\n",
       "      <td>0.223269</td>\n",
       "      <td>0.082053</td>\n",
       "      <td>0.111111</td>\n",
       "      <td>0.000000</td>\n",
       "      <td>1</td>\n",
       "      <td>1</td>\n",
       "      <td>0</td>\n",
       "      <td>0.0</td>\n",
       "      <td>0.0</td>\n",
       "      <td>0.0</td>\n",
       "      <td>0.0</td>\n",
       "      <td>0.0</td>\n",
       "      <td>1.0</td>\n",
       "      <td>0.0</td>\n",
       "      <td>9.0</td>\n",
       "    </tr>\n",
       "  </tbody>\n",
       "</table>\n",
       "</div>"
      ],
      "text/plain": [
       "          Hour  Temperature  Humidity  SquareFootage  Occupancy  \\\n",
       "710   0.913043     0.072880  0.617320       0.836474   0.444444   \n",
       "486   0.043478     0.583121  0.564254       0.896841   0.666667   \n",
       "244   0.565217     0.509140  0.006289       0.815548   0.333333   \n",
       "551   0.217391     0.479635  0.635156       0.559464   0.888889   \n",
       "1162  0.565217     0.567467  0.223269       0.082053   0.111111   \n",
       "\n",
       "      RenewableEnergy  Holiday  HVACUsage  LightingUsage  DayOfWeek_Friday  \\\n",
       "710          0.310054        0          0              1               0.0   \n",
       "486          0.546465        1          0              0               0.0   \n",
       "244          0.949764        1          0              0               0.0   \n",
       "551          0.770393        1          0              0               0.0   \n",
       "1162         0.000000        1          1              0               0.0   \n",
       "\n",
       "      DayOfWeek_Monday  DayOfWeek_Saturday  DayOfWeek_Sunday  \\\n",
       "710                1.0                 0.0               0.0   \n",
       "486                0.0                 0.0               0.0   \n",
       "244                0.0                 0.0               0.0   \n",
       "551                0.0                 0.0               0.0   \n",
       "1162               0.0                 0.0               0.0   \n",
       "\n",
       "      DayOfWeek_Thursday  DayOfWeek_Tuesday  DayOfWeek_Wednesday  Month  \n",
       "710                  0.0                0.0                  0.0    0.0  \n",
       "486                  0.0                1.0                  0.0    3.0  \n",
       "244                  1.0                0.0                  0.0    2.0  \n",
       "551                  0.0                1.0                  0.0    4.0  \n",
       "1162                 0.0                1.0                  0.0    9.0  "
      ]
     },
     "execution_count": 49,
     "metadata": {},
     "output_type": "execute_result"
    }
   ],
   "source": [
    "test_x = pd.concat([test_x.drop(columns=binary_cols_1 + binary_cols_2 + nominal_cols + ordinal_cols), bin_data, nominal_data, ordinal_data], axis=1)\n",
    "test_x.head()"
   ]
  },
  {
   "cell_type": "code",
   "execution_count": 50,
   "id": "a7a6d668",
   "metadata": {},
   "outputs": [
    {
     "data": {
      "text/plain": [
       "(246, 17)"
      ]
     },
     "execution_count": 50,
     "metadata": {},
     "output_type": "execute_result"
    }
   ],
   "source": [
    "test_x.shape"
   ]
  },
  {
   "cell_type": "markdown",
   "id": "e1d12f1b",
   "metadata": {},
   "source": [
    "## Model making"
   ]
  },
  {
   "cell_type": "markdown",
   "id": "9cb072ed",
   "metadata": {},
   "source": [
    "### Baseline Model\n",
    "\n",
    "We will develop a Sequential Model And Functional Model\n",
    "\n",
    "Requirements:\n",
    "1. Relu Activation\n",
    "2. The minimum Number of neurons is 2x the input data dimension"
   ]
  },
  {
   "cell_type": "markdown",
   "id": "d0197386",
   "metadata": {},
   "source": [
    "#### Sequential_model"
   ]
  },
  {
   "cell_type": "markdown",
   "id": "7acbaec3",
   "metadata": {},
   "source": [
    "##### Train the model"
   ]
  },
  {
   "cell_type": "code",
   "execution_count": 51,
   "id": "139871a5",
   "metadata": {},
   "outputs": [
    {
     "name": "stdout",
     "output_type": "stream",
     "text": [
      "Epoch 1/10\n",
      "25/25 [==============================] - 1s 14ms/step - loss: 0.0645 - mse: 0.0645 - val_loss: 0.0506 - val_mse: 0.0506\n",
      "Epoch 2/10\n",
      "25/25 [==============================] - 0s 4ms/step - loss: 0.0368 - mse: 0.0368 - val_loss: 0.0381 - val_mse: 0.0381\n",
      "Epoch 3/10\n",
      "25/25 [==============================] - 0s 4ms/step - loss: 0.0324 - mse: 0.0324 - val_loss: 0.0366 - val_mse: 0.0366\n",
      "Epoch 4/10\n",
      "25/25 [==============================] - 0s 3ms/step - loss: 0.0313 - mse: 0.0313 - val_loss: 0.0400 - val_mse: 0.0400\n",
      "Epoch 5/10\n",
      "25/25 [==============================] - 0s 3ms/step - loss: 0.0319 - mse: 0.0319 - val_loss: 0.0364 - val_mse: 0.0364\n",
      "Epoch 6/10\n",
      "25/25 [==============================] - 0s 4ms/step - loss: 0.0275 - mse: 0.0275 - val_loss: 0.0323 - val_mse: 0.0323\n",
      "Epoch 7/10\n",
      "25/25 [==============================] - 0s 3ms/step - loss: 0.0273 - mse: 0.0273 - val_loss: 0.0358 - val_mse: 0.0358\n",
      "Epoch 8/10\n",
      "25/25 [==============================] - 0s 5ms/step - loss: 0.0273 - mse: 0.0273 - val_loss: 0.0323 - val_mse: 0.0323\n",
      "Epoch 9/10\n",
      "25/25 [==============================] - 0s 5ms/step - loss: 0.0264 - mse: 0.0264 - val_loss: 0.0318 - val_mse: 0.0318\n",
      "Epoch 10/10\n",
      "25/25 [==============================] - 0s 4ms/step - loss: 0.0263 - mse: 0.0263 - val_loss: 0.0335 - val_mse: 0.0335\n"
     ]
    },
    {
     "data": {
      "text/plain": [
       "<keras.callbacks.History at 0x219e25938e0>"
      ]
     },
     "execution_count": 51,
     "metadata": {},
     "output_type": "execute_result"
    }
   ],
   "source": [
    "seq_model = Sequential()\n",
    "seq_model.add(Dense(64, input_dim=train_x.shape[1], activation='relu'))\n",
    "seq_model.add(Dense(64, activation='relu'))\n",
    "seq_model.add(Dense(1, activation='relu')) #one numeric output column\n",
    "seq_model.compile(optimizer='adam', loss='mean_squared_error', metrics=['mse'])\n",
    "seq_model.fit(train_x, train_y, epochs=10, batch_size=32, validation_data=(val_x, val_y), verbose=1)"
   ]
  },
  {
   "cell_type": "code",
   "execution_count": 52,
   "id": "fabe13c2",
   "metadata": {},
   "outputs": [
    {
     "name": "stdout",
     "output_type": "stream",
     "text": [
      "Model: \"sequential\"\n",
      "_________________________________________________________________\n",
      " Layer (type)                Output Shape              Param #   \n",
      "=================================================================\n",
      " dense (Dense)               (None, 64)                1152      \n",
      "                                                                 \n",
      " dense_1 (Dense)             (None, 64)                4160      \n",
      "                                                                 \n",
      " dense_2 (Dense)             (None, 1)                 65        \n",
      "                                                                 \n",
      "=================================================================\n",
      "Total params: 5,377\n",
      "Trainable params: 5,377\n",
      "Non-trainable params: 0\n",
      "_________________________________________________________________\n"
     ]
    }
   ],
   "source": [
    "seq_model.summary()"
   ]
  },
  {
   "cell_type": "markdown",
   "id": "14da525d",
   "metadata": {},
   "source": [
    "##### Test the model"
   ]
  },
  {
   "cell_type": "code",
   "execution_count": 53,
   "id": "082a15d3",
   "metadata": {},
   "outputs": [
    {
     "name": "stdout",
     "output_type": "stream",
     "text": [
      "8/8 [==============================] - 0s 2ms/step\n",
      "R2 Score: \t0.26736246436865596\n",
      "MSE: \t \t0.03030699787553749\n",
      "MAE: \t \t0.13522269471561232\n"
     ]
    }
   ],
   "source": [
    "seq_pred = seq_model.predict(test_x)\n",
    "print(f\"R2 Score: \\t{r2_score(test_y, seq_pred)}\")\n",
    "print(f\"MSE: \\t \\t{mean_squared_error(test_y, seq_pred)}\")\n",
    "print(f\"MAE: \\t \\t{mean_absolute_error(test_y, seq_pred)}\")"
   ]
  },
  {
   "cell_type": "markdown",
   "id": "48d2914e",
   "metadata": {},
   "source": [
    "The model will undergo hyperparameter tuning to further optimize the model. "
   ]
  },
  {
   "cell_type": "markdown",
   "id": "7b7740cc",
   "metadata": {},
   "source": [
    "#### Functional Model"
   ]
  },
  {
   "cell_type": "markdown",
   "id": "19382386",
   "metadata": {},
   "source": [
    "##### Train the Model"
   ]
  },
  {
   "cell_type": "code",
   "execution_count": 54,
   "id": "8b971715",
   "metadata": {},
   "outputs": [
    {
     "name": "stdout",
     "output_type": "stream",
     "text": [
      "Epoch 1/10\n",
      "25/25 [==============================] - 1s 21ms/step - loss: 0.1541 - mse: 0.1541 - val_loss: 0.0578 - val_mse: 0.0578\n",
      "Epoch 2/10\n",
      "25/25 [==============================] - 0s 4ms/step - loss: 0.0452 - mse: 0.0452 - val_loss: 0.0404 - val_mse: 0.0404\n",
      "Epoch 3/10\n",
      "25/25 [==============================] - 0s 3ms/step - loss: 0.0344 - mse: 0.0344 - val_loss: 0.0351 - val_mse: 0.0351\n",
      "Epoch 4/10\n",
      "25/25 [==============================] - 0s 5ms/step - loss: 0.0301 - mse: 0.0301 - val_loss: 0.0383 - val_mse: 0.0383\n",
      "Epoch 5/10\n",
      "25/25 [==============================] - 0s 4ms/step - loss: 0.0293 - mse: 0.0293 - val_loss: 0.0336 - val_mse: 0.0336\n",
      "Epoch 6/10\n",
      "25/25 [==============================] - 0s 4ms/step - loss: 0.0296 - mse: 0.0296 - val_loss: 0.0353 - val_mse: 0.0353\n",
      "Epoch 7/10\n",
      "25/25 [==============================] - 0s 5ms/step - loss: 0.0269 - mse: 0.0269 - val_loss: 0.0338 - val_mse: 0.0338\n",
      "Epoch 8/10\n",
      "25/25 [==============================] - 0s 5ms/step - loss: 0.0267 - mse: 0.0267 - val_loss: 0.0343 - val_mse: 0.0343\n",
      "Epoch 9/10\n",
      "25/25 [==============================] - 0s 4ms/step - loss: 0.0270 - mse: 0.0270 - val_loss: 0.0377 - val_mse: 0.0377\n",
      "Epoch 10/10\n",
      "25/25 [==============================] - 0s 5ms/step - loss: 0.0271 - mse: 0.0271 - val_loss: 0.0406 - val_mse: 0.0406\n"
     ]
    },
    {
     "data": {
      "text/plain": [
       "<keras.callbacks.History at 0x219e5074730>"
      ]
     },
     "execution_count": 54,
     "metadata": {},
     "output_type": "execute_result"
    }
   ],
   "source": [
    "# Input layer\n",
    "inputs = Input(shape=(train_x.shape[1],))\n",
    "\n",
    "# Making hidden layers\n",
    "x = Dense(64, activation='relu')(inputs)\n",
    "x = Dense(64, activation='relu')(x)\n",
    "\n",
    "# Output layer\n",
    "output = Dense(1, activation='relu')(x)  # one numeric output column\n",
    "\n",
    "#Compile the model\n",
    "func_model = Model(inputs = inputs, outputs = output)\n",
    "func_model.compile(optimizer='adam', loss='mean_squared_error', metrics=['mse'])\n",
    "func_model.fit(train_x, train_y, epochs=10, batch_size=32, validation_data=(val_x, val_y), verbose=1)"
   ]
  },
  {
   "cell_type": "code",
   "execution_count": 55,
   "id": "be93e450",
   "metadata": {},
   "outputs": [
    {
     "name": "stdout",
     "output_type": "stream",
     "text": [
      "Model: \"model\"\n",
      "_________________________________________________________________\n",
      " Layer (type)                Output Shape              Param #   \n",
      "=================================================================\n",
      " input_1 (InputLayer)        [(None, 17)]              0         \n",
      "                                                                 \n",
      " dense_3 (Dense)             (None, 64)                1152      \n",
      "                                                                 \n",
      " dense_4 (Dense)             (None, 64)                4160      \n",
      "                                                                 \n",
      " dense_5 (Dense)             (None, 1)                 65        \n",
      "                                                                 \n",
      "=================================================================\n",
      "Total params: 5,377\n",
      "Trainable params: 5,377\n",
      "Non-trainable params: 0\n",
      "_________________________________________________________________\n"
     ]
    }
   ],
   "source": [
    "func_model.summary()\n"
   ]
  },
  {
   "cell_type": "markdown",
   "id": "aaaa5c88",
   "metadata": {},
   "source": [
    "##### Test the Model"
   ]
  },
  {
   "cell_type": "code",
   "execution_count": 56,
   "id": "99f951d9",
   "metadata": {},
   "outputs": [
    {
     "name": "stdout",
     "output_type": "stream",
     "text": [
      "8/8 [==============================] - 0s 2ms/step\n",
      "R2 Score: \t0.062396075827876096\n",
      "MSE: \t \t0.03878583713772318\n",
      "MAE: \t \t0.15346991093361456\n"
     ]
    }
   ],
   "source": [
    "func_pred = func_model.predict(test_x)\n",
    "print(f\"R2 Score: \\t{r2_score(test_y, func_pred)}\")\n",
    "print(f\"MSE: \\t \\t{mean_squared_error(test_y, func_pred)}\")\n",
    "print(f\"MAE: \\t \\t{mean_absolute_error(test_y, func_pred)}\")"
   ]
  },
  {
   "cell_type": "markdown",
   "id": "d78cb302",
   "metadata": {},
   "source": [
    "#### Compare both model performance"
   ]
  },
  {
   "cell_type": "code",
   "execution_count": 57,
   "id": "fa5c8ec2",
   "metadata": {},
   "outputs": [
    {
     "data": {
      "text/html": [
       "<div>\n",
       "<style scoped>\n",
       "    .dataframe tbody tr th:only-of-type {\n",
       "        vertical-align: middle;\n",
       "    }\n",
       "\n",
       "    .dataframe tbody tr th {\n",
       "        vertical-align: top;\n",
       "    }\n",
       "\n",
       "    .dataframe thead th {\n",
       "        text-align: right;\n",
       "    }\n",
       "</style>\n",
       "<table border=\"1\" class=\"dataframe\">\n",
       "  <thead>\n",
       "    <tr style=\"text-align: right;\">\n",
       "      <th></th>\n",
       "      <th>Sequential Model</th>\n",
       "      <th>Functional Model</th>\n",
       "    </tr>\n",
       "    <tr>\n",
       "      <th>Metrics</th>\n",
       "      <th></th>\n",
       "      <th></th>\n",
       "    </tr>\n",
       "  </thead>\n",
       "  <tbody>\n",
       "    <tr>\n",
       "      <th>R2 Score</th>\n",
       "      <td>0.267362</td>\n",
       "      <td>0.062396</td>\n",
       "    </tr>\n",
       "    <tr>\n",
       "      <th>MSE</th>\n",
       "      <td>0.030307</td>\n",
       "      <td>0.038786</td>\n",
       "    </tr>\n",
       "    <tr>\n",
       "      <th>MAE</th>\n",
       "      <td>0.135223</td>\n",
       "      <td>0.153470</td>\n",
       "    </tr>\n",
       "  </tbody>\n",
       "</table>\n",
       "</div>"
      ],
      "text/plain": [
       "          Sequential Model  Functional Model\n",
       "Metrics                                     \n",
       "R2 Score          0.267362          0.062396\n",
       "MSE               0.030307          0.038786\n",
       "MAE               0.135223          0.153470"
      ]
     },
     "execution_count": 57,
     "metadata": {},
     "output_type": "execute_result"
    }
   ],
   "source": [
    "comparison = pd.DataFrame({\"Metrics\": [\"R2 Score\", \"MSE\", \"MAE\"], \n",
    "                          \"Sequential Model\": [r2_score(test_y, seq_pred), mean_squared_error(test_y, seq_pred), mean_absolute_error(test_y, seq_pred)], \n",
    "                          \"Functional Model\": [r2_score(test_y, func_pred), mean_squared_error(test_y, func_pred), mean_absolute_error(test_y, func_pred)]})\n",
    "comparison.set_index(\"Metrics\", inplace=True)\n",
    "comparison"
   ]
  },
  {
   "cell_type": "markdown",
   "id": "ab16a3d8",
   "metadata": {},
   "source": [
    "There is no difference in results between the sequential and functional model. Since there are no difference in the model architecture however different model making."
   ]
  },
  {
   "cell_type": "markdown",
   "id": "501bb774",
   "metadata": {},
   "source": [
    "### Proposed Model\n",
    "\n",
    "We will develop a Sequential Model And Functional Model with hyperparameter tuning using optuna.\n",
    "\n",
    "Requirements:\n",
    "1. Relu Activation\n",
    "2. The minimum Number of neurons is 2x the input data dimension"
   ]
  },
  {
   "cell_type": "markdown",
   "id": "c5ad4b0f",
   "metadata": {},
   "source": [
    "#### Sequential Model\n",
    "\n",
    "We will use optuna for gridsearch"
   ]
  },
  {
   "cell_type": "markdown",
   "id": "9e834049",
   "metadata": {},
   "source": [
    "##### Neural Architecture Search Function"
   ]
  },
  {
   "cell_type": "code",
   "execution_count": 58,
   "id": "cfbd9744",
   "metadata": {},
   "outputs": [],
   "source": [
    "def seq_objective(trial):\n",
    "    \"\"\"This function is used to optimize the hyperparameters of the sequential model using Optuna.\n",
    "    It takes a trial object as input and returns the R2 score of the model on the validation set.\n",
    "\n",
    "    Args:\n",
    "        trial (_Optuna trial object_): Optuna trial object\n",
    "        \n",
    "    Returns:\n",
    "        R2_score: R2 score of the model on the validation set\n",
    "    \"\"\"\n",
    "    # Sequential model\n",
    "    # Suggest hyperparameters\n",
    "    ## Input Layer\n",
    "    num_layers = trial.suggest_int('n_layers', 1, 10)\n",
    "    model = Sequential()\n",
    "    model.add(Dense(trial.suggest_int('input_l_n_neuron', 17, 256),\n",
    "                    activation=trial.suggest_categorical('input_l_activation', ['relu', 'linear', 'elu', 'gelu']),\n",
    "                    input_dim=train_x.shape[1]\n",
    "                    ))\n",
    "\n",
    "    ## Hidden Layer\n",
    "    for i in range(num_layers):\n",
    "        n_neurons = trial.suggest_int(f'l{i}_n_neuron', 16, 256)\n",
    "        activation = trial.suggest_categorical(f'l{i}_activation', ['relu', 'linear', 'elu', 'gelu'])\n",
    "        model.add(Dense(n_neurons, activation=activation))\n",
    "\n",
    "    ## dropout layer\n",
    "    if trial.suggest_categorical('dropout', [True, False]):\n",
    "        model.add(Dropout(trial.suggest_float('dropout_rate', 0.1, 0.5)))\n",
    "    \n",
    "    ## Output Layer\n",
    "    activation = trial.suggest_categorical(f'output_l_activation', ['relu', 'linear', 'elu', 'gelu'])\n",
    "    model.add(Dense(1, activation=activation))  # output layer\n",
    "\n",
    "    ## Choose optimizer\n",
    "    optimizer_name = trial.suggest_categorical('optimizer', ['adam', 'rmsprop', 'sgd'])\n",
    "    model.compile(\n",
    "        optimizer=optimizer_name,\n",
    "        loss='mean_squared_error',\n",
    "        metrics=['mse']\n",
    "    )\n",
    "\n",
    "    # Train the model\n",
    "    model.fit(train_x, train_y,\n",
    "              validation_data=(val_x, val_y),\n",
    "              epochs=10,\n",
    "              batch_size= trial.suggest_categorical('batch_size', [32, 64, 128]),\n",
    "              verbose=0)\n",
    "\n",
    "    # Evaluate\n",
    "    model_pred = model.predict(val_x)\n",
    "    r2_score_val = r2_score(val_y, model_pred)\n",
    "    return r2_score_val"
   ]
  },
  {
   "cell_type": "markdown",
   "id": "6c68bafd",
   "metadata": {},
   "source": [
    "##### Start the search"
   ]
  },
  {
   "cell_type": "code",
   "execution_count": 59,
   "id": "9b016500",
   "metadata": {},
   "outputs": [
    {
     "name": "stderr",
     "output_type": "stream",
     "text": [
      "Finding best hyperparameters:   0%|          | 0/10 [00:00<?, ?it/s]"
     ]
    },
    {
     "name": "stdout",
     "output_type": "stream",
     "text": [
      "7/7 [==============================] - 0s 3ms/step\n"
     ]
    },
    {
     "name": "stderr",
     "output_type": "stream",
     "text": [
      "Finding best hyperparameters:  10%|█         | 1/10 [00:01<00:13,  1.53s/it, best_r2=-0.112, trial=0]"
     ]
    },
    {
     "name": "stdout",
     "output_type": "stream",
     "text": [
      "7/7 [==============================] - 0s 4ms/step\n"
     ]
    },
    {
     "name": "stderr",
     "output_type": "stream",
     "text": [
      "Finding best hyperparameters:  20%|██        | 2/10 [00:04<00:19,  2.44s/it, best_r2=-0.0269, trial=1]"
     ]
    },
    {
     "name": "stdout",
     "output_type": "stream",
     "text": [
      "7/7 [==============================] - 0s 2ms/step\n"
     ]
    },
    {
     "name": "stderr",
     "output_type": "stream",
     "text": [
      "Finding best hyperparameters:  30%|███       | 3/10 [00:07<00:17,  2.45s/it, best_r2=0.0141, trial=2] "
     ]
    },
    {
     "name": "stdout",
     "output_type": "stream",
     "text": [
      "7/7 [==============================] - 0s 4ms/step\n"
     ]
    },
    {
     "name": "stderr",
     "output_type": "stream",
     "text": [
      "Finding best hyperparameters:  40%|████      | 4/10 [00:09<00:15,  2.63s/it, best_r2=0.0779, trial=3]"
     ]
    },
    {
     "name": "stdout",
     "output_type": "stream",
     "text": [
      "7/7 [==============================] - 0s 3ms/step\n"
     ]
    },
    {
     "name": "stderr",
     "output_type": "stream",
     "text": [
      "Finding best hyperparameters:  50%|█████     | 5/10 [00:12<00:12,  2.42s/it, best_r2=0.11, trial=4]  "
     ]
    },
    {
     "name": "stdout",
     "output_type": "stream",
     "text": [
      "7/7 [==============================] - 0s 3ms/step\n"
     ]
    },
    {
     "name": "stderr",
     "output_type": "stream",
     "text": [
      "Finding best hyperparameters:  60%|██████    | 6/10 [00:15<00:11,  2.80s/it, best_r2=0.2, trial=5] "
     ]
    },
    {
     "name": "stdout",
     "output_type": "stream",
     "text": [
      "7/7 [==============================] - 0s 13ms/step\n"
     ]
    },
    {
     "name": "stderr",
     "output_type": "stream",
     "text": [
      "Finding best hyperparameters:  70%|███████   | 7/10 [00:23<00:13,  4.45s/it, best_r2=0.2, trial=6]"
     ]
    },
    {
     "name": "stdout",
     "output_type": "stream",
     "text": [
      "7/7 [==============================] - 0s 3ms/step\n"
     ]
    },
    {
     "name": "stderr",
     "output_type": "stream",
     "text": [
      "Finding best hyperparameters:  80%|████████  | 8/10 [00:26<00:07,  3.90s/it, best_r2=0.2, trial=7]"
     ]
    },
    {
     "name": "stdout",
     "output_type": "stream",
     "text": [
      "7/7 [==============================] - 0s 3ms/step\n"
     ]
    },
    {
     "name": "stderr",
     "output_type": "stream",
     "text": [
      "Finding best hyperparameters:  90%|█████████ | 9/10 [00:28<00:03,  3.57s/it, best_r2=0.2, trial=8]"
     ]
    },
    {
     "name": "stdout",
     "output_type": "stream",
     "text": [
      "7/7 [==============================] - 0s 3ms/step\n"
     ]
    },
    {
     "name": "stderr",
     "output_type": "stream",
     "text": [
      "Finding best hyperparameters: 100%|██████████| 10/10 [00:32<00:00,  3.57s/it, best_r2=0.2, trial=9]"
     ]
    },
    {
     "name": "stdout",
     "output_type": "stream",
     "text": [
      "Number of finished trials:  10\n",
      "Best seq_trial:\n",
      "\tValue:  0.1998729323617061\n",
      "\tParams: \n",
      "\t\tn_layers: 6\n",
      "\t\tinput_l_n_neuron: 210\n",
      "\t\tinput_l_activation: relu\n",
      "\t\tl0_n_neuron: 129\n",
      "\t\tl0_activation: gelu\n",
      "\t\tl1_n_neuron: 52\n",
      "\t\tl1_activation: gelu\n",
      "\t\tl2_n_neuron: 150\n",
      "\t\tl2_activation: gelu\n",
      "\t\tl3_n_neuron: 194\n",
      "\t\tl3_activation: linear\n",
      "\t\tl4_n_neuron: 43\n",
      "\t\tl4_activation: elu\n",
      "\t\tl5_n_neuron: 115\n",
      "\t\tl5_activation: linear\n",
      "\t\tdropout: True\n",
      "\t\tdropout_rate: 0.2857721808312883\n",
      "\t\toutput_l_activation: elu\n",
      "\t\toptimizer: adam\n",
      "\t\tbatch_size: 32\n"
     ]
    }
   ],
   "source": [
    "n_trials = 10 # Number of trials for Optuna to seach for the best hyperparameters\n",
    "\n",
    "# For a cleaner output\n",
    "prog_bar = tqdm(total=n_trials, desc=\"Finding best hyperparameters\", leave=True) #leave is for not removing the progress bar after completion\n",
    "\n",
    "def tqdm_callback(study, trial):\n",
    "    \"\"\"This function is used to create a progress bar for the Optuna study.\n",
    "\n",
    "    Args:\n",
    "        study (_Optuna study object_): Optuna study object\n",
    "        trial (_Optuna trial object_): Optuna trial object\n",
    "    \"\"\"\n",
    "    prog_bar.set_postfix(best_r2=study.best_value, trial=trial.number)\n",
    "    prog_bar.update(1)\n",
    "\n",
    "seq_study = optuna.create_study(direction=\"maximize\") # Maximize the R2 score\n",
    "seq_study.optimize(seq_objective, n_trials=n_trials, callbacks=[tqdm_callback])\n",
    "\n",
    "print(\"Number of finished trials: \", len(seq_study.trials))\n",
    "print(\"Best seq_trial:\")\n",
    "\n",
    "seq_trial = seq_study.best_trial\n",
    "\n",
    "print(\"\\tValue: \", seq_trial.value)\n",
    "print(\"\\tParams: \")\n",
    "\n",
    "for key, value in seq_trial.params.items():\n",
    "    print(f\"\\t\\t{key}: {value}\")"
   ]
  },
  {
   "cell_type": "markdown",
   "id": "8e1552fe",
   "metadata": {},
   "source": [
    "#### Functional Model\n",
    "\n",
    "We will use optuna for gridsearch"
   ]
  },
  {
   "cell_type": "markdown",
   "id": "37a5112c",
   "metadata": {},
   "source": [
    "##### Neural Architechture Search Function"
   ]
  },
  {
   "cell_type": "code",
   "execution_count": 60,
   "id": "231bc995",
   "metadata": {},
   "outputs": [],
   "source": [
    "def func_objective(trial):\n",
    "    \"\"\"This function is used to optimize the hyperparameters of the functional model using Optuna.\n",
    "    It takes a trial object as input and returns the R2 score of the model on the validation set.\n",
    "\n",
    "    Args:\n",
    "        trial (_Optuna trial object_): Optuna trial object\n",
    "        \n",
    "    Returns:\n",
    "        R2_score: R2 score of the model on the validation set\n",
    "    \"\"\"\n",
    "    # Fucntional model\n",
    "    # Suggest hyperparameters\n",
    "    ## Input Layer\n",
    "    num_layers = trial.suggest_int('n_layers', 1, 10)\n",
    "    input = Input(shape=(train_x.shape[1],))\n",
    "\n",
    "    ## Hidden Layer\n",
    "    x = Dense(trial.suggest_int(f'input_l_n_neuron', 16, 256), \n",
    "              activation = trial.suggest_categorical('input_l_activation', ['relu', 'linear', 'elu', 'gelu']))(input)\n",
    "    \n",
    "    for i in range(num_layers):\n",
    "        n_neurons = trial.suggest_int(f'l{i}_n_neuron', 16, 256)\n",
    "        activation = trial.suggest_categorical(f'l{i}_activation', ['relu', 'linear', 'elu', 'gelu'])\n",
    "        x = Dense(n_neurons, activation=activation)(x)\n",
    "\n",
    "    ## dropout layer\n",
    "    if trial.suggest_categorical('dropout', [True, False]):\n",
    "        x = Dropout(trial.suggest_float('dropout_rate', 0.1, 0.5))(x)\n",
    "    \n",
    "    ## Output Layer\n",
    "    activation = trial.suggest_categorical(f'output_l_activation', ['relu', 'linear', 'elu', 'gelu'])\n",
    "    output = Dense(1, activation = activation)(x)  # output layer\n",
    "\n",
    "    ## Choose optimizer\n",
    "    optimizer_name = trial.suggest_categorical('optimizer', ['adam', 'rmsprop', 'sgd'])\n",
    "    model = Model(inputs=input, outputs=output)\n",
    "    # Compile the model\n",
    "    model.compile(\n",
    "        optimizer=optimizer_name,\n",
    "        loss='mean_squared_error',\n",
    "        metrics=['mse']\n",
    "    )\n",
    "\n",
    "    # Train the model\n",
    "    model.fit(train_x, train_y,\n",
    "              validation_data=(val_x, val_y),\n",
    "              epochs=10,\n",
    "              batch_size=trial.suggest_categorical('batch_size', [32, 64, 128]),\n",
    "              verbose=0)\n",
    "\n",
    "    # Evaluate\n",
    "    model_pred = model.predict(val_x)\n",
    "    r2_score_val = r2_score(val_y, model_pred)\n",
    "    return r2_score_val"
   ]
  },
  {
   "cell_type": "markdown",
   "id": "cac869e7",
   "metadata": {},
   "source": [
    "##### Start the search"
   ]
  },
  {
   "cell_type": "code",
   "execution_count": 61,
   "id": "5fd4a039",
   "metadata": {},
   "outputs": [
    {
     "name": "stderr",
     "output_type": "stream",
     "text": [
      "Finding best hyperparameters: 100%|██████████| 10/10 [00:32<00:00,  3.27s/it, best_r2=0.2, trial=9]\n"
     ]
    },
    {
     "data": {
      "application/vnd.jupyter.widget-view+json": {
       "model_id": "5688b29770d24ef8a7bb6be913340b34",
       "version_major": 2,
       "version_minor": 0
      },
      "text/plain": [
       "  0%|          | 0/10 [00:00<?, ?it/s]"
      ]
     },
     "metadata": {},
     "output_type": "display_data"
    },
    {
     "name": "stdout",
     "output_type": "stream",
     "text": [
      "7/7 [==============================] - 0s 3ms/step\n"
     ]
    },
    {
     "name": "stderr",
     "output_type": "stream",
     "text": []
    },
    {
     "name": "stdout",
     "output_type": "stream",
     "text": [
      "7/7 [==============================] - 0s 3ms/step\n"
     ]
    },
    {
     "name": "stderr",
     "output_type": "stream",
     "text": []
    },
    {
     "name": "stdout",
     "output_type": "stream",
     "text": [
      "7/7 [==============================] - 0s 10ms/step\n"
     ]
    },
    {
     "name": "stderr",
     "output_type": "stream",
     "text": []
    },
    {
     "name": "stdout",
     "output_type": "stream",
     "text": [
      "7/7 [==============================] - 0s 3ms/step\n"
     ]
    },
    {
     "name": "stderr",
     "output_type": "stream",
     "text": []
    },
    {
     "name": "stdout",
     "output_type": "stream",
     "text": [
      "7/7 [==============================] - 0s 3ms/step\n"
     ]
    },
    {
     "name": "stderr",
     "output_type": "stream",
     "text": []
    },
    {
     "name": "stdout",
     "output_type": "stream",
     "text": [
      "7/7 [==============================] - 0s 5ms/step\n"
     ]
    },
    {
     "name": "stderr",
     "output_type": "stream",
     "text": []
    },
    {
     "name": "stdout",
     "output_type": "stream",
     "text": [
      "7/7 [==============================] - 0s 58ms/step\n"
     ]
    },
    {
     "name": "stderr",
     "output_type": "stream",
     "text": []
    },
    {
     "name": "stdout",
     "output_type": "stream",
     "text": [
      "7/7 [==============================] - 0s 4ms/step\n"
     ]
    },
    {
     "name": "stderr",
     "output_type": "stream",
     "text": []
    },
    {
     "name": "stdout",
     "output_type": "stream",
     "text": [
      "7/7 [==============================] - 1s 81ms/step\n"
     ]
    },
    {
     "name": "stderr",
     "output_type": "stream",
     "text": []
    },
    {
     "name": "stdout",
     "output_type": "stream",
     "text": [
      "7/7 [==============================] - 0s 4ms/step\n"
     ]
    },
    {
     "name": "stderr",
     "output_type": "stream",
     "text": []
    },
    {
     "name": "stdout",
     "output_type": "stream",
     "text": [
      "Number of finished trials:  10\n",
      "Best trial:\n",
      "\tValue:  0.19951111881142325\n",
      "\tParams: \n",
      "\t\tn_layers: 1\n",
      "\t\tinput_l_n_neuron: 157\n",
      "\t\tinput_l_activation: linear\n",
      "\t\tl0_n_neuron: 157\n",
      "\t\tl0_activation: linear\n",
      "\t\tdropout: False\n",
      "\t\toutput_l_activation: linear\n",
      "\t\toptimizer: adam\n",
      "\t\tbatch_size: 64\n"
     ]
    }
   ],
   "source": [
    "n_trials = 10 # Number of trials for Optuna to seach for the best hyperparameters\n",
    "\n",
    "# For a cleaner output\n",
    "prog_bar = tqdm(total=n_trials, desc=\"Finding best hyperparameters\", leave=True) #leave is for not removing the progress bar after completion\n",
    "\n",
    "func_study = optuna.create_study(direction=\"maximize\") # Maximize the R2 score\n",
    "func_study.optimize(func_objective, n_trials=n_trials, show_progress_bar=True, callbacks=[tqdm_callback])\n",
    "\n",
    "print(\"Number of finished trials: \", len(func_study.trials))\n",
    "print(\"Best trial:\")\n",
    "\n",
    "func_trial = func_study.best_trial\n",
    "\n",
    "print(\"\\tValue: \", func_trial.value)\n",
    "print(\"\\tParams: \")\n",
    "\n",
    "for key, value in func_trial.params.items():\n",
    "    print(f\"\\t\\t{key}: {value}\")"
   ]
  },
  {
   "cell_type": "markdown",
   "id": "81c19bd5",
   "metadata": {},
   "source": [
    "#### Model builder function"
   ]
  },
  {
   "cell_type": "markdown",
   "id": "2bbec915",
   "metadata": {},
   "source": [
    "##### Sequential model builder"
   ]
  },
  {
   "cell_type": "code",
   "execution_count": 62,
   "id": "c47b2cec",
   "metadata": {},
   "outputs": [],
   "source": [
    "def seq_model_builder(best_params: dict, input_dim: int):\n",
    "    \"\"\"This function builds a sequential model based on the best parameters found by Optuna.\n",
    "       It takes the best parameters and the input dimension as input and returns the model.\n",
    "\n",
    "    Args:\n",
    "        best_params (dict): Dictionary of the best parameters found by Optuna\n",
    "        input_dim (int): Input dimension of the model\n",
    "        The input dimension should be greater than 0.\n",
    "\n",
    "    Raises:\n",
    "        TypeError: 'best_params should be a dictionary' try best_params.params\n",
    "        TypeError: 'input_dim should be an integer'\n",
    "        ValueError: 'input_dim invalid. should be greater than 0' \n",
    "        negative dimmentions are not allowed\n",
    "\n",
    "    Returns:\n",
    "        model: The sequential model from the best parameters\n",
    "    \"\"\"\n",
    "    # Type Check\n",
    "    if not isinstance(best_params, dict):\n",
    "        raise TypeError(\"best_params should be a dictionary\")\n",
    "    if not isinstance(input_dim, int): \n",
    "        raise TypeError(\"input_dim should be an integer\")\n",
    "    if input_dim <= 0:\n",
    "        raise ValueError(\"input_dim invalid. should be greater than 0\")\n",
    "    \n",
    "    # Input Layer\n",
    "    num_layers = best_params[\"n_layers\"]\n",
    "    model = Sequential()\n",
    "    model.add(Dense(best_params['input_l_n_neuron'],\n",
    "                    activation=best_params['input_l_activation'],\n",
    "                    input_dim=input_dim\n",
    "                    ))\n",
    "\n",
    "    # Hidden Layer\n",
    "    for i in range(num_layers):\n",
    "        n_neurons = best_params[f'l{i}_n_neuron']\n",
    "        activation = best_params[f'l{i}_activation']\n",
    "        model.add(Dense(n_neurons, activation=activation))\n",
    "\n",
    "    # dropout layer\n",
    "    if best_params['dropout']:\n",
    "        model.add(Dropout(best_params['dropout_rate']))\n",
    "    \n",
    "    # Output Layer\n",
    "    activation = best_params['output_l_activation']\n",
    "    model.add(Dense(1, activation=activation))  # output layer\n",
    "\n",
    "    # Choose optimizer\n",
    "    optimizer_name = best_params['optimizer']\n",
    "    model.compile(\n",
    "        optimizer=optimizer_name,\n",
    "        loss='mean_squared_error',\n",
    "        metrics=['mse']\n",
    "    )\n",
    "    \n",
    "    return model"
   ]
  },
  {
   "cell_type": "markdown",
   "id": "539a43ec",
   "metadata": {},
   "source": [
    "##### Functional model builder"
   ]
  },
  {
   "cell_type": "code",
   "execution_count": 63,
   "id": "6d9bf0d9",
   "metadata": {},
   "outputs": [],
   "source": [
    "def func_model_builder(best_params: dict, input_dim: int):\n",
    "    \"\"\"This function builds a functional model based on the best parameters found by Optuna.\n",
    "       It takes the best parameters and the input dimension as input and returns the model.\n",
    "\n",
    "    Args:\n",
    "        best_params (dict): Dictionary of the best parameters found by Optuna\n",
    "        input_dim (int): Input dimension of the model\n",
    "        The input dimension should be greater than 0.\n",
    "\n",
    "    Raises:\n",
    "        TypeError: 'best_params should be a dictionary' try best_params.params\n",
    "        TypeError: 'input_dim should be an integer'\n",
    "        ValueError: 'input_dim invalid. should be greater than 0' \n",
    "        negative dimmentions are not allowed\n",
    "\n",
    "    Returns:\n",
    "        model: The functional model from the best parameters\n",
    "    \"\"\"\n",
    "    \n",
    "    # Type Check\n",
    "    if not isinstance(best_params, dict):\n",
    "        raise TypeError(\"best_params should be a dictionary\")\n",
    "    if not isinstance(input_dim, int): \n",
    "        raise TypeError(\"input_dim should be an integer\")\n",
    "    if input_dim <= 0:\n",
    "        raise ValueError(\"input_dim invalid. should be greater than 0\")\n",
    "    \n",
    "    ## Input Layer\n",
    "    num_layers = best_params[\"n_layers\"]\n",
    "    input = Input(shape=(input_dim,))\n",
    "\n",
    "    ## Hidden Layer\n",
    "    x = Dense(best_params['input_l_n_neuron'], \n",
    "              activation = best_params['input_l_activation'])(input)\n",
    "    \n",
    "    for i in range(num_layers):\n",
    "        n_neurons = best_params[f'l{i}_n_neuron']\n",
    "        activation = best_params[f'l{i}_activation']\n",
    "        x = Dense(n_neurons, activation=activation)(x)\n",
    "\n",
    "    ## dropout layer\n",
    "    if best_params['dropout']:\n",
    "        x = Dropout(best_params['dropout_rate'])(x)\n",
    "    \n",
    "    ## Output Layer\n",
    "    activation = best_params['output_l_activation']\n",
    "    output = Dense(1, activation = activation)(x)  # output layer\n",
    "\n",
    "    ## Choose optimizer\n",
    "    optimizer_name = best_params['optimizer']\n",
    "    model = Model(inputs=input, outputs=output)\n",
    "    # Compile the model\n",
    "    model.compile(\n",
    "        optimizer=optimizer_name,\n",
    "        loss='mean_squared_error',\n",
    "        metrics=['mse']\n",
    "    )\n",
    "\n",
    "    \n",
    "    return model"
   ]
  },
  {
   "cell_type": "markdown",
   "id": "b3a48660",
   "metadata": {},
   "source": [
    "#### Test the models"
   ]
  },
  {
   "cell_type": "markdown",
   "id": "03e52683",
   "metadata": {},
   "source": [
    "##### Sequential Model"
   ]
  },
  {
   "cell_type": "code",
   "execution_count": 64,
   "id": "ef77e89a",
   "metadata": {},
   "outputs": [
    {
     "name": "stdout",
     "output_type": "stream",
     "text": [
      "Epoch 1/10\n",
      "25/25 [==============================] - 2s 24ms/step - loss: 0.0648 - mse: 0.0648 - val_loss: 0.0482 - val_mse: 0.0482\n",
      "Epoch 2/10\n",
      "25/25 [==============================] - 0s 16ms/step - loss: 0.0399 - mse: 0.0399 - val_loss: 0.0324 - val_mse: 0.0324\n",
      "Epoch 3/10\n",
      "25/25 [==============================] - 1s 36ms/step - loss: 0.0332 - mse: 0.0332 - val_loss: 0.0312 - val_mse: 0.0312\n",
      "Epoch 4/10\n",
      "25/25 [==============================] - 0s 7ms/step - loss: 0.0329 - mse: 0.0329 - val_loss: 0.0454 - val_mse: 0.0454\n",
      "Epoch 5/10\n",
      "25/25 [==============================] - 0s 7ms/step - loss: 0.0334 - mse: 0.0334 - val_loss: 0.0345 - val_mse: 0.0345\n",
      "Epoch 6/10\n",
      "25/25 [==============================] - 0s 14ms/step - loss: 0.0316 - mse: 0.0316 - val_loss: 0.0372 - val_mse: 0.0372\n",
      "Epoch 7/10\n",
      "25/25 [==============================] - 1s 29ms/step - loss: 0.0322 - mse: 0.0322 - val_loss: 0.0331 - val_mse: 0.0331\n",
      "Epoch 8/10\n",
      "25/25 [==============================] - 1s 40ms/step - loss: 0.0275 - mse: 0.0275 - val_loss: 0.0308 - val_mse: 0.0308\n",
      "Epoch 9/10\n",
      "25/25 [==============================] - 0s 6ms/step - loss: 0.0283 - mse: 0.0283 - val_loss: 0.0326 - val_mse: 0.0326\n",
      "Epoch 10/10\n",
      "25/25 [==============================] - 0s 12ms/step - loss: 0.0298 - mse: 0.0298 - val_loss: 0.0310 - val_mse: 0.0310\n"
     ]
    },
    {
     "data": {
      "text/plain": [
       "<keras.callbacks.History at 0x219e565f820>"
      ]
     },
     "execution_count": 64,
     "metadata": {},
     "output_type": "execute_result"
    }
   ],
   "source": [
    "seq_model = seq_model_builder(seq_trial.params, train_x.shape[1])\n",
    "seq_model.fit(train_x, train_y, epochs=10, batch_size=32, validation_data=(val_x, val_y), verbose=1)"
   ]
  },
  {
   "cell_type": "markdown",
   "id": "07d5fcbb",
   "metadata": {},
   "source": [
    "##### Fucntional Model"
   ]
  },
  {
   "cell_type": "code",
   "execution_count": 65,
   "id": "fb911d60",
   "metadata": {},
   "outputs": [
    {
     "name": "stdout",
     "output_type": "stream",
     "text": [
      "Epoch 1/10\n",
      "25/25 [==============================] - 1s 18ms/step - loss: 0.3923 - mse: 0.3923 - val_loss: 0.1145 - val_mse: 0.1145\n",
      "Epoch 2/10\n",
      "25/25 [==============================] - 0s 5ms/step - loss: 0.0536 - mse: 0.0536 - val_loss: 0.0490 - val_mse: 0.0490\n",
      "Epoch 3/10\n",
      "25/25 [==============================] - 1s 23ms/step - loss: 0.0350 - mse: 0.0350 - val_loss: 0.0345 - val_mse: 0.0345\n",
      "Epoch 4/10\n",
      "25/25 [==============================] - 0s 5ms/step - loss: 0.0294 - mse: 0.0294 - val_loss: 0.0348 - val_mse: 0.0348\n",
      "Epoch 5/10\n",
      "25/25 [==============================] - 0s 10ms/step - loss: 0.0291 - mse: 0.0291 - val_loss: 0.0320 - val_mse: 0.0320\n",
      "Epoch 6/10\n",
      "25/25 [==============================] - 0s 5ms/step - loss: 0.0295 - mse: 0.0295 - val_loss: 0.0317 - val_mse: 0.0317\n",
      "Epoch 7/10\n",
      "25/25 [==============================] - 0s 6ms/step - loss: 0.0341 - mse: 0.0341 - val_loss: 0.0343 - val_mse: 0.0343\n",
      "Epoch 8/10\n",
      "25/25 [==============================] - 0s 5ms/step - loss: 0.0384 - mse: 0.0384 - val_loss: 0.0538 - val_mse: 0.0538\n",
      "Epoch 9/10\n",
      "25/25 [==============================] - 0s 8ms/step - loss: 0.0386 - mse: 0.0386 - val_loss: 0.0572 - val_mse: 0.0572\n",
      "Epoch 10/10\n",
      "25/25 [==============================] - 0s 19ms/step - loss: 0.0347 - mse: 0.0347 - val_loss: 0.0317 - val_mse: 0.0317\n"
     ]
    },
    {
     "data": {
      "text/plain": [
       "<keras.callbacks.History at 0x219e44761d0>"
      ]
     },
     "execution_count": 65,
     "metadata": {},
     "output_type": "execute_result"
    }
   ],
   "source": [
    "func_model = func_model_builder(func_trial.params, train_x.shape[1])\n",
    "func_model.fit(train_x, train_y, epochs=10, batch_size=32, validation_data=(val_x, val_y), verbose=1)"
   ]
  },
  {
   "cell_type": "markdown",
   "id": "aa704ad0",
   "metadata": {},
   "source": [
    "#### Evaluate and Compare Both Models"
   ]
  },
  {
   "cell_type": "markdown",
   "id": "52e4a13c",
   "metadata": {},
   "source": [
    "##### R<sup>2</sup> Score, MSE, MAE"
   ]
  },
  {
   "cell_type": "code",
   "execution_count": 66,
   "id": "baa6f500",
   "metadata": {},
   "outputs": [
    {
     "name": "stdout",
     "output_type": "stream",
     "text": [
      "8/8 [==============================] - 0s 5ms/step\n",
      "8/8 [==============================] - 0s 2ms/step\n"
     ]
    }
   ],
   "source": [
    "seq_pred = seq_model.predict(test_x)\n",
    "func_pred = func_model.predict(test_x)"
   ]
  },
  {
   "cell_type": "markdown",
   "id": "30927961",
   "metadata": {},
   "source": [
    "To evaluate the performance of the models, both a Sequential and a Functional neural network architecture were trained and finetuned using the same dataset. The evaluation metrics used were R² Score, Mean Squared Error (MSE), and Mean Absolute Error (MAE). The results are summarized in the table below:"
   ]
  },
  {
   "cell_type": "code",
   "execution_count": 67,
   "id": "e1585a55",
   "metadata": {},
   "outputs": [
    {
     "data": {
      "text/html": [
       "<div>\n",
       "<style scoped>\n",
       "    .dataframe tbody tr th:only-of-type {\n",
       "        vertical-align: middle;\n",
       "    }\n",
       "\n",
       "    .dataframe tbody tr th {\n",
       "        vertical-align: top;\n",
       "    }\n",
       "\n",
       "    .dataframe thead th {\n",
       "        text-align: right;\n",
       "    }\n",
       "</style>\n",
       "<table border=\"1\" class=\"dataframe\">\n",
       "  <thead>\n",
       "    <tr style=\"text-align: right;\">\n",
       "      <th></th>\n",
       "      <th>Sequential Model</th>\n",
       "      <th>Functional Model</th>\n",
       "    </tr>\n",
       "    <tr>\n",
       "      <th>Metrics</th>\n",
       "      <th></th>\n",
       "      <th></th>\n",
       "    </tr>\n",
       "  </thead>\n",
       "  <tbody>\n",
       "    <tr>\n",
       "      <th>R2 Score</th>\n",
       "      <td>0.240861</td>\n",
       "      <td>0.266888</td>\n",
       "    </tr>\n",
       "    <tr>\n",
       "      <th>MSE</th>\n",
       "      <td>0.031403</td>\n",
       "      <td>0.030327</td>\n",
       "    </tr>\n",
       "    <tr>\n",
       "      <th>MAE</th>\n",
       "      <td>0.138354</td>\n",
       "      <td>0.137117</td>\n",
       "    </tr>\n",
       "  </tbody>\n",
       "</table>\n",
       "</div>"
      ],
      "text/plain": [
       "          Sequential Model  Functional Model\n",
       "Metrics                                     \n",
       "R2 Score          0.240861          0.266888\n",
       "MSE               0.031403          0.030327\n",
       "MAE               0.138354          0.137117"
      ]
     },
     "execution_count": 67,
     "metadata": {},
     "output_type": "execute_result"
    }
   ],
   "source": [
    "NAS_comparison = pd.DataFrame({\"Metrics\": [\"R2 Score\", \"MSE\", \"MAE\"], \n",
    "                          \"Sequential Model\": [r2_score(test_y, seq_pred), mean_squared_error(test_y, seq_pred), mean_absolute_error(test_y, seq_pred)], \n",
    "                          \"Functional Model\": [r2_score(test_y, func_pred), mean_squared_error(test_y, func_pred), mean_absolute_error(test_y, func_pred)]})\n",
    "NAS_comparison.set_index(\"Metrics\", inplace=True)\n",
    "NAS_comparison"
   ]
  },
  {
   "cell_type": "code",
   "execution_count": 68,
   "id": "53aae114",
   "metadata": {},
   "outputs": [
    {
     "data": {
      "text/html": [
       "<div>\n",
       "<style scoped>\n",
       "    .dataframe tbody tr th:only-of-type {\n",
       "        vertical-align: middle;\n",
       "    }\n",
       "\n",
       "    .dataframe tbody tr th {\n",
       "        vertical-align: top;\n",
       "    }\n",
       "\n",
       "    .dataframe thead th {\n",
       "        text-align: right;\n",
       "    }\n",
       "</style>\n",
       "<table border=\"1\" class=\"dataframe\">\n",
       "  <thead>\n",
       "    <tr style=\"text-align: right;\">\n",
       "      <th></th>\n",
       "      <th>Sequential Model (Before NAS)</th>\n",
       "      <th>Functional Model (Before NAS)</th>\n",
       "      <th>Sequential Model (After NAS)</th>\n",
       "      <th>Functional Model (After NAS)</th>\n",
       "    </tr>\n",
       "    <tr>\n",
       "      <th>Metrics</th>\n",
       "      <th></th>\n",
       "      <th></th>\n",
       "      <th></th>\n",
       "      <th></th>\n",
       "    </tr>\n",
       "  </thead>\n",
       "  <tbody>\n",
       "    <tr>\n",
       "      <th>R2 Score</th>\n",
       "      <td>0.267362</td>\n",
       "      <td>0.062396</td>\n",
       "      <td>0.240861</td>\n",
       "      <td>0.266888</td>\n",
       "    </tr>\n",
       "    <tr>\n",
       "      <th>MSE</th>\n",
       "      <td>0.030307</td>\n",
       "      <td>0.038786</td>\n",
       "      <td>0.031403</td>\n",
       "      <td>0.030327</td>\n",
       "    </tr>\n",
       "    <tr>\n",
       "      <th>MAE</th>\n",
       "      <td>0.135223</td>\n",
       "      <td>0.153470</td>\n",
       "      <td>0.138354</td>\n",
       "      <td>0.137117</td>\n",
       "    </tr>\n",
       "  </tbody>\n",
       "</table>\n",
       "</div>"
      ],
      "text/plain": [
       "          Sequential Model (Before NAS)  Functional Model (Before NAS)  \\\n",
       "Metrics                                                                  \n",
       "R2 Score                       0.267362                       0.062396   \n",
       "MSE                            0.030307                       0.038786   \n",
       "MAE                            0.135223                       0.153470   \n",
       "\n",
       "          Sequential Model (After NAS)  Functional Model (After NAS)  \n",
       "Metrics                                                               \n",
       "R2 Score                      0.240861                      0.266888  \n",
       "MSE                           0.031403                      0.030327  \n",
       "MAE                           0.138354                      0.137117  "
      ]
     },
     "execution_count": 68,
     "metadata": {},
     "output_type": "execute_result"
    }
   ],
   "source": [
    "comparison = comparison.rename(columns={\"Sequential Model\": \"Sequential Model (Before NAS)\", \"Functional Model\": \"Functional Model (Before NAS)\"})\n",
    "NAS_comparison = NAS_comparison.rename(columns={\"Sequential Model\": \"Sequential Model (After NAS)\", \"Functional Model\": \"Functional Model (After NAS)\"})\n",
    "pd.concat([comparison, NAS_comparison], axis=1)"
   ]
  },
  {
   "cell_type": "markdown",
   "id": "410e5471",
   "metadata": {},
   "source": [
    "##### Model Size"
   ]
  },
  {
   "cell_type": "code",
   "execution_count": 69,
   "id": "56a85f58",
   "metadata": {},
   "outputs": [
    {
     "name": "stdout",
     "output_type": "stream",
     "text": [
      "Model: \"model_11\"\n",
      "_________________________________________________________________\n",
      " Layer (type)                Output Shape              Param #   \n",
      "=================================================================\n",
      " input_12 (InputLayer)       [(None, 17)]              0         \n",
      "                                                                 \n",
      " dense_182 (Dense)           (None, 157)               2826      \n",
      "                                                                 \n",
      " dense_183 (Dense)           (None, 157)               24806     \n",
      "                                                                 \n",
      " dense_184 (Dense)           (None, 1)                 158       \n",
      "                                                                 \n",
      "=================================================================\n",
      "Total params: 27,790\n",
      "Trainable params: 27,790\n",
      "Non-trainable params: 0\n",
      "_________________________________________________________________\n"
     ]
    },
    {
     "data": {
      "text/html": [
       "<div>\n",
       "<style scoped>\n",
       "    .dataframe tbody tr th:only-of-type {\n",
       "        vertical-align: middle;\n",
       "    }\n",
       "\n",
       "    .dataframe tbody tr th {\n",
       "        vertical-align: top;\n",
       "    }\n",
       "\n",
       "    .dataframe thead th {\n",
       "        text-align: right;\n",
       "    }\n",
       "</style>\n",
       "<table border=\"1\" class=\"dataframe\">\n",
       "  <thead>\n",
       "    <tr style=\"text-align: right;\">\n",
       "      <th></th>\n",
       "    </tr>\n",
       "  </thead>\n",
       "  <tbody>\n",
       "  </tbody>\n",
       "</table>\n",
       "</div>"
      ],
      "text/plain": [
       "Empty DataFrame\n",
       "Columns: []\n",
       "Index: []"
      ]
     },
     "execution_count": 69,
     "metadata": {},
     "output_type": "execute_result"
    }
   ],
   "source": [
    "pd.DataFrame(func_model.summary())"
   ]
  },
  {
   "cell_type": "code",
   "execution_count": 70,
   "id": "b24a8001",
   "metadata": {},
   "outputs": [
    {
     "name": "stdout",
     "output_type": "stream",
     "text": [
      "Model: \"sequential_11\"\n",
      "_________________________________________________________________\n",
      " Layer (type)                Output Shape              Param #   \n",
      "=================================================================\n",
      " dense_174 (Dense)           (None, 210)               3780      \n",
      "                                                                 \n",
      " dense_175 (Dense)           (None, 129)               27219     \n",
      "                                                                 \n",
      " dense_176 (Dense)           (None, 52)                6760      \n",
      "                                                                 \n",
      " dense_177 (Dense)           (None, 150)               7950      \n",
      "                                                                 \n",
      " dense_178 (Dense)           (None, 194)               29294     \n",
      "                                                                 \n",
      " dense_179 (Dense)           (None, 43)                8385      \n",
      "                                                                 \n",
      " dense_180 (Dense)           (None, 115)               5060      \n",
      "                                                                 \n",
      " dropout_7 (Dropout)         (None, 115)               0         \n",
      "                                                                 \n",
      " dense_181 (Dense)           (None, 1)                 116       \n",
      "                                                                 \n",
      "=================================================================\n",
      "Total params: 88,564\n",
      "Trainable params: 88,564\n",
      "Non-trainable params: 0\n",
      "_________________________________________________________________\n"
     ]
    },
    {
     "data": {
      "text/html": [
       "<div>\n",
       "<style scoped>\n",
       "    .dataframe tbody tr th:only-of-type {\n",
       "        vertical-align: middle;\n",
       "    }\n",
       "\n",
       "    .dataframe tbody tr th {\n",
       "        vertical-align: top;\n",
       "    }\n",
       "\n",
       "    .dataframe thead th {\n",
       "        text-align: right;\n",
       "    }\n",
       "</style>\n",
       "<table border=\"1\" class=\"dataframe\">\n",
       "  <thead>\n",
       "    <tr style=\"text-align: right;\">\n",
       "      <th></th>\n",
       "    </tr>\n",
       "  </thead>\n",
       "  <tbody>\n",
       "  </tbody>\n",
       "</table>\n",
       "</div>"
      ],
      "text/plain": [
       "Empty DataFrame\n",
       "Columns: []\n",
       "Index: []"
      ]
     },
     "execution_count": 70,
     "metadata": {},
     "output_type": "execute_result"
    }
   ],
   "source": [
    "pd.DataFrame(seq_model.summary())"
   ]
  },
  {
   "cell_type": "markdown",
   "id": "c998c163",
   "metadata": {},
   "source": [
    "## Summary"
   ]
  },
  {
   "cell_type": "markdown",
   "id": "25c958e9",
   "metadata": {},
   "source": [
    "### Comparison before and after NAS\n",
    "<div>\n",
    "<style scoped>\n",
    "    .dataframe tbody tr th:only-of-type {\n",
    "        vertical-align: middle;\n",
    "    }\n",
    "\n",
    "    .dataframe tbody tr th {\n",
    "        vertical-align: top;\n",
    "    }\n",
    "\n",
    "    .dataframe thead th {\n",
    "        text-align: right;\n",
    "    }\n",
    "</style>\n",
    "<table border=\"1\" class=\"dataframe\">\n",
    "  <thead>\n",
    "    <tr style=\"text-align: right;\">\n",
    "      <td>Metrics</td>\n",
    "      <td>Sequential Model <b style=\"color:red\">(Before NAS)</b></td>\n",
    "      <td>Functional Model <b style=\"color:red\">(Before NAS)</b></td>\n",
    "      <td>Sequential Model <b style=\"color:green\">(After NAS)</b></td>\n",
    "      <td>Functional Model <b style=\"color:green\">(After NAS)</b></td>\n",
    "    </tr>\n",
    "  </thead>\n",
    "  <tbody>\n",
    "    <tr>\n",
    "      <th>R2 Score</th>\n",
    "      <td>0.233671</td>\n",
    "      <td>0.211576</td>\n",
    "      <td>0.168453</td>\n",
    "      <td>0.195303</td>\n",
    "    </tr>\n",
    "    <tr>\n",
    "      <th>MSE</th>\n",
    "      <td>0.031701</td>\n",
    "      <td>0.032615</td>\n",
    "      <td>0.034399</td>\n",
    "      <td>0.033288</td>\n",
    "    </tr>\n",
    "    <tr>\n",
    "      <th>MAE</th>\n",
    "      <td>0.141460</td>\n",
    "      <td>0.143669</td>\n",
    "      <td>0.152042</td>\n",
    "      <td>0.139835</td>\n",
    "    </tr>\n",
    "  </tbody>\n",
    "</table>\n",
    "</div>\n",
    "\n",
    "After applying NAS, the Sequential model’s performance slightly declined across all metrics, especially in R² and MAE. In contrast, the Functional model showed a slight improvement in MAE and R², suggesting it benefited more from NAS optimization. However, the changes were relatively small, highlighting the consistency of both models.\n",
    "\n",
    "### Overall Model Performance\n",
    "The results show that both models achieved very **similar performance** across all three metrics. The Sequential model is **slightly** outperformed by the Functional model in terms of **R² Score and MSE**, indicating a marginally better fit and lower error variance. However, the Functional model had a slightly lower MAE, suggesting it made more accurate predictions on average.\n",
    "<table>\n",
    "<tr>\n",
    "<th>Aspect</th>\n",
    "<th>Sequential Model (After NAS)</th>\n",
    "<th>Functional Model</th>\n",
    "</tr>\n",
    "<tr>\n",
    "<td>Fit</td>\n",
    "<td>Slightly <b>better</b></td>\n",
    "<td>Slightly <b>worse</b></td>\n",
    "</tr>\n",
    "<tr>\n",
    "<td>Error Variance</td>\n",
    "<td>Slightly <b>lower</b></td>\n",
    "<td>Slightly <b>higher</b></td>\n",
    "</tr>\n",
    "<tr>\n",
    "<td>Prediction Accuracy</td>\n",
    "<td>Slightly <b>less</b></td>\n",
    "<td>Slightly <b>more</b></td>\n",
    "</tr>\n",
    "</table>\n",
    "\n",
    "### Model Architecture\n",
    "While the performance differences are minimal, the Functional model remains advantageous by having a smaller model with 4 layers(including input and output) and less number of parameters. a comparison summary can be seen below:\n",
    "\n",
    "<table>\n",
    "<tr>\n",
    "<th>Specification</th>\n",
    "<th>Sequential Model</th>\n",
    "<th>Functional Model</th>\n",
    "</tr>\n",
    "<tr>\n",
    "<td>Number of layers</td>\n",
    "<td>13</td>\n",
    "<td>4</td>\n",
    "</tr>\n",
    "<tr>\n",
    "<td>Number of hidden layers</td>\n",
    "<td>11</td>\n",
    "<td>2</td>\n",
    "</tr>\n",
    "<tr>\n",
    "<td>Number of parameters</td>\n",
    "<td>213,682</td>\n",
    "<td>6,015</td>\n",
    "</tr>\n",
    "</table>\n",
    "\n",
    "### Conclusion\n",
    "In conclusion, there is no significant difference between using a functional-based model and a sequential-based model in terms of performance. However, there is a notable difference when comparing model training on a GPU versus a CPU. Using a GPU allows for a greater number of trials and faster processing, making it more efficient for tasks like Neural Architecture Search (NAS) compared to CPU execution."
   ]
  }
 ],
 "metadata": {
  "kernelspec": {
   "display_name": "TF_env",
   "language": "python",
   "name": "python3"
  },
  "language_info": {
   "codemirror_mode": {
    "name": "ipython",
    "version": 3
   },
   "file_extension": ".py",
   "mimetype": "text/x-python",
   "name": "python",
   "nbconvert_exporter": "python",
   "pygments_lexer": "ipython3",
   "version": "3.10.13"
  }
 },
 "nbformat": 4,
 "nbformat_minor": 5
}
